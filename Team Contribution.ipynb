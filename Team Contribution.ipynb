{
 "cells": [
  {
   "cell_type": "markdown",
   "id": "cfaf254c",
   "metadata": {},
   "source": [
    "## Team Contribution\n"
   ]
  },
  {
   "cell_type": "markdown",
   "id": "64f91887",
   "metadata": {},
   "source": [
    "### Zelong Wang"
   ]
  },
  {
   "cell_type": "markdown",
   "id": "3a44b7f1",
   "metadata": {},
   "source": [
    "- Gathered Data Set, filtered 14.3gb (75.26 million reviews) data of 29 categories, and sampled into json format dataset of 25 categories with 340,839 records\n",
    "- Converted the dataset into Bipartite graph with edge attributes (time, rating) and node attributes (category)\n",
    "- Built simulation of new user-item interaction (new reviews) as time increases (2016-2018)\n",
    "- Built visualization method of the vanilla network."
   ]
  },
  {
   "cell_type": "code",
   "execution_count": null,
   "id": "6027bb31",
   "metadata": {},
   "outputs": [],
   "source": []
  },
  {
   "cell_type": "markdown",
   "id": "fc370224",
   "metadata": {},
   "source": [
    "### Richard Tang"
   ]
  },
  {
   "cell_type": "code",
   "execution_count": null,
   "id": "031242b4",
   "metadata": {},
   "outputs": [],
   "source": []
  },
  {
   "cell_type": "code",
   "execution_count": null,
   "id": "f753dc6f",
   "metadata": {},
   "outputs": [],
   "source": []
  },
  {
   "cell_type": "code",
   "execution_count": null,
   "id": "07626d7a",
   "metadata": {},
   "outputs": [],
   "source": []
  }
 ],
 "metadata": {
  "kernelspec": {
   "display_name": "Python 3 (ipykernel)",
   "language": "python",
   "name": "python3"
  },
  "language_info": {
   "codemirror_mode": {
    "name": "ipython",
    "version": 3
   },
   "file_extension": ".py",
   "mimetype": "text/x-python",
   "name": "python",
   "nbconvert_exporter": "python",
   "pygments_lexer": "ipython3",
   "version": "3.9.5"
  }
 },
 "nbformat": 4,
 "nbformat_minor": 5
}
