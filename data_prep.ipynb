{
 "cells": [
  {
   "cell_type": "code",
   "execution_count": 6,
   "id": "53836956",
   "metadata": {},
   "outputs": [],
   "source": [
    "import gzip\n",
    "from tqdm import tqdm"
   ]
  },
  {
   "cell_type": "code",
   "execution_count": 12,
   "id": "4ddd2c28",
   "metadata": {},
   "outputs": [
    {
     "name": "stderr",
     "output_type": "stream",
     "text": [
      "100%|█| 26/26 [07:49<00:00, 18.06s/it, file=Arts_Crafts_and_Sewing_5.json.gz, sk\n"
     ]
    }
   ],
   "source": [
    "\n",
    "# import required module\n",
    "import os\n",
    "# assign directory\n",
    "directory = 'Amazon'\n",
    "false = False\n",
    "true = True\n",
    "# iterate over files in\n",
    "# that directory\n",
    "# 'Books_5.json.gz', 'CDs_and_Vinyl_5.json.gz', 'Digital_Music_5.json.gz', 'Kindle_Store_5.json.gz'\n",
    "dataset = []\n",
    "skip = 0\n",
    "with tqdm(os.listdir(directory)) as pbar:\n",
    "    for filename in pbar:\n",
    "        if filename[-8:] != '.json.gz':\n",
    "            continue\n",
    "        f = os.path.join(directory, filename)\n",
    "        for l in gzip.open(f):\n",
    "            if skip % 100 == 0:\n",
    "                d = eval(l)\n",
    "                if d['unixReviewTime'] < 1451635200:\n",
    "                    continue\n",
    "                d['category'] = filename.split('.')[0]\n",
    "                del d['reviewTime']\n",
    "                d.pop('style', None)\n",
    "                d.pop('reviewerName', None)\n",
    "                dataset.append(d)\n",
    "            skip += 1\n",
    "        pbar.set_postfix({'file':filename, 'skip': skip})\n",
    "\n"
   ]
  },
  {
   "cell_type": "code",
   "execution_count": null,
   "id": "275c141b",
   "metadata": {},
   "outputs": [],
   "source": [
    "import json\n",
    "dest_file = 'all_data.json'\n",
    "output_file = open(dest_file, 'w', encoding='utf-8')\n",
    "for dic in dataset:\n",
    "    json.dump(dic, output_file) \n",
    "    output_file.write(\"\\n\")\n",
    "output_file.close()"
   ]
  },
  {
   "cell_type": "code",
   "execution_count": 33,
   "id": "0eb815f3",
   "metadata": {},
   "outputs": [],
   "source": [
    "with open('all_data.json' , 'r') as f:\n",
    "    data = list(map(json.loads, f))"
   ]
  },
  {
   "cell_type": "code",
   "execution_count": 35,
   "id": "976bbe1e",
   "metadata": {},
   "outputs": [
    {
     "data": {
      "text/plain": [
       "340839"
      ]
     },
     "execution_count": 35,
     "metadata": {},
     "output_type": "execute_result"
    }
   ],
   "source": []
  },
  {
   "cell_type": "code",
   "execution_count": 32,
   "id": "25108d4c",
   "metadata": {},
   "outputs": [],
   "source": []
  },
  {
   "cell_type": "code",
   "execution_count": null,
   "id": "46003c16",
   "metadata": {},
   "outputs": [],
   "source": []
  },
  {
   "cell_type": "code",
   "execution_count": 10,
   "id": "5d657f50",
   "metadata": {},
   "outputs": [
    {
     "data": {
      "text/plain": [
       "['Luxury_Beauty_5.json.gz',\n",
       " 'Patio_Lawn_and_Garden_5.json.gz',\n",
       " 'Gift_Cards_5.json.gz',\n",
       " 'Video_Games_5.json.gz',\n",
       " '.DS_Store',\n",
       " 'Clothing_Shoes_and_Jewelry_5.json.gz',\n",
       " 'Musical_Instruments_5.json.gz',\n",
       " 'Home_and_Kitchen_5.json.gz',\n",
       " 'Digital_Music_5.json.gz',\n",
       " 'Cell_Phones_and_Accessories_5.json.gz',\n",
       " 'Automotive_5.json.gz',\n",
       " 'Software_5.json.gz',\n",
       " 'AMAZON_FASHION_5.json.gz',\n",
       " 'Sports_and_Outdoors_5.json.gz',\n",
       " 'Toys_and_Games_5.json.gz',\n",
       " 'Appliances_5.json.gz',\n",
       " 'Pet_Supplies_5.json.gz',\n",
       " 'Magazine_Subscriptions_5.json.gz',\n",
       " 'Office_Products_5.json.gz',\n",
       " 'All_Beauty_5.json.gz',\n",
       " 'Electronics_5.json.gz',\n",
       " 'Industrial_and_Scientific_5.json.gz',\n",
       " 'Prime_Pantry_5.json.gz',\n",
       " 'Grocery_and_Gourmet_Food_5.json.gz',\n",
       " 'Tools_and_Home_Improvement_5.json.gz',\n",
       " 'Arts_Crafts_and_Sewing_5.json.gz']"
      ]
     },
     "execution_count": 10,
     "metadata": {},
     "output_type": "execute_result"
    }
   ],
   "source": [
    "os.listdir(directory)"
   ]
  },
  {
   "cell_type": "code",
   "execution_count": null,
   "id": "88473985",
   "metadata": {},
   "outputs": [],
   "source": [
    "dataset"
   ]
  },
  {
   "cell_type": "code",
   "execution_count": null,
   "id": "18d1fea5",
   "metadata": {},
   "outputs": [],
   "source": [
    "dataset"
   ]
  },
  {
   "cell_type": "code",
   "execution_count": null,
   "id": "3f1636bc",
   "metadata": {},
   "outputs": [],
   "source": [
    "dataset2 = []\n",
    "\n",
    "f = gzip.open(\"./Amazon/Video_Games_5.json.gz\")\n",
    "for l in f:\n",
    "    d = eval(l)\n",
    "    d['category'] = \n",
    "    dataset2.append(d)\n",
    "    if len(dataset2) >= 20:\n",
    "        break\n",
    "        \n",
    "f.close()"
   ]
  },
  {
   "cell_type": "code",
   "execution_count": null,
   "id": "551308c5",
   "metadata": {},
   "outputs": [],
   "source": [
    "dataset2"
   ]
  },
  {
   "cell_type": "code",
   "execution_count": 4,
   "id": "ee6aad59",
   "metadata": {},
   "outputs": [],
   "source": [
    "dataset3 = []\n",
    "false = False\n",
    "true = True\n",
    "f = gzip.open(\"./Amazon/Video_Games_5.json.gz\")\n",
    "for l in f:\n",
    "    d = eval(l)\n",
    "    dataset3.append(d)\n",
    "    if len(dataset3) >= 20:\n",
    "        break\n",
    "        \n",
    "f.close()"
   ]
  },
  {
   "cell_type": "code",
   "execution_count": 5,
   "id": "39524740",
   "metadata": {},
   "outputs": [
    {
     "data": {
      "text/plain": [
       "[{'overall': 5.0,\n",
       "  'verified': True,\n",
       "  'reviewTime': '10 17, 2015',\n",
       "  'reviewerID': 'A1HP7NVNPFMA4N',\n",
       "  'asin': '0700026657',\n",
       "  'reviewerName': 'Ambrosia075',\n",
       "  'reviewText': \"This game is a bit hard to get the hang of, but when you do it's great.\",\n",
       "  'summary': \"but when you do it's great.\",\n",
       "  'unixReviewTime': 1445040000},\n",
       " {'overall': 4.0,\n",
       "  'verified': False,\n",
       "  'reviewTime': '07 27, 2015',\n",
       "  'reviewerID': 'A1JGAP0185YJI6',\n",
       "  'asin': '0700026657',\n",
       "  'reviewerName': 'travis',\n",
       "  'reviewText': 'I played it a while but it was alright. The steam was a bit of trouble. The more they move these game to steam the more of a hard time I have activating and playing a game. But in spite of that it was fun, I liked it. Now I am looking forward to anno 2205 I really want to play my way to the moon.',\n",
       "  'summary': 'But in spite of that it was fun, I liked it',\n",
       "  'unixReviewTime': 1437955200},\n",
       " {'overall': 3.0,\n",
       "  'verified': True,\n",
       "  'reviewTime': '02 23, 2015',\n",
       "  'reviewerID': 'A1YJWEXHQBWK2B',\n",
       "  'asin': '0700026657',\n",
       "  'reviewerName': 'Vincent G. Mezera',\n",
       "  'reviewText': 'ok game.',\n",
       "  'summary': 'Three Stars',\n",
       "  'unixReviewTime': 1424649600},\n",
       " {'overall': 2.0,\n",
       "  'verified': True,\n",
       "  'reviewTime': '02 20, 2015',\n",
       "  'reviewerID': 'A2204E1TH211HT',\n",
       "  'asin': '0700026657',\n",
       "  'reviewerName': 'Grandma KR',\n",
       "  'reviewText': 'found the game a bit too complicated, not what I expected after having played 1602, 1503, and 1701',\n",
       "  'summary': 'Two Stars',\n",
       "  'unixReviewTime': 1424390400},\n",
       " {'overall': 5.0,\n",
       "  'verified': True,\n",
       "  'reviewTime': '12 25, 2014',\n",
       "  'reviewerID': 'A2RF5B5H74JLPE',\n",
       "  'asin': '0700026657',\n",
       "  'reviewerName': 'jon',\n",
       "  'reviewText': 'great game, I love it and have played it since its arrived',\n",
       "  'summary': 'love this game',\n",
       "  'unixReviewTime': 1419465600},\n",
       " {'overall': 4.0,\n",
       "  'verified': True,\n",
       "  'reviewTime': '11 13, 2014',\n",
       "  'reviewerID': 'A11V6ZJ2FVQY1D',\n",
       "  'asin': '0700026657',\n",
       "  'reviewerName': 'IBRAHIM ALBADI',\n",
       "  'reviewText': \"i liked a lot some time that i haven't play a wonderfull game very simply and funny game verry good game.\",\n",
       "  'summary': 'Anno 2070',\n",
       "  'unixReviewTime': 1415836800},\n",
       " {'overall': 1.0,\n",
       "  'verified': False,\n",
       "  'reviewTime': '08 2, 2014',\n",
       "  'reviewerID': 'A1KXJ1ELZIU05C',\n",
       "  'asin': '0700026657',\n",
       "  'reviewerName': 'Creation27',\n",
       "  'reviewText': \"I'm an avid gamer, but Anno 2070 is an INSULT to gaming.  It is so buggy and half-finished that the first campaign doesn't even work properly and the DRM is INCREDIBLY frustrating to deal with.\\n\\nOnce you manage to work your way past the massive amounts of bugs and get through the DRM, HOURS later you finally figure out that the game has no real tutorial, so you stuck just clicking around randomly.\\n\\nSad, sad, sad, example of a game that could have been great but FTW.\",\n",
       "  'summary': 'Avoid This Game - Filled with Bugs',\n",
       "  'unixReviewTime': 1406937600},\n",
       " {'overall': 5.0,\n",
       "  'verified': True,\n",
       "  'reviewTime': '03 3, 2014',\n",
       "  'reviewerID': 'A1WK5I4874S3O2',\n",
       "  'asin': '0700026657',\n",
       "  'reviewerName': 'WhiteSkull',\n",
       "  'reviewText': 'I bought this game thinking it would be pretty cool and that i might play it for a  week or two and be done.  Boy was I wrong! From the moment I finally got the gamed Fired up (the other commentors on this are right, it takes forever and u are forced to create an account) I watched as it booted up I could tell right off the bat that ALOT of thought went into making this game. If you have ever played Sim city, then this game is a must try as you will easily navigate thru it and its multi layers. I have been playing htis now for a month straight, and I am STILL discovering layers of complexity in the game. There are a few things in the game that could used tweaked, but all in all this is a 5 star game.',\n",
       "  'summary': 'A very good game balance of skill with depth of choices',\n",
       "  'unixReviewTime': 1393804800},\n",
       " {'overall': 5.0,\n",
       "  'verified': True,\n",
       "  'reviewTime': '02 21, 2014',\n",
       "  'reviewerID': 'AV969NA4CBP10',\n",
       "  'asin': '0700026657',\n",
       "  'reviewerName': 'Travis B. Moore',\n",
       "  'reviewText': 'I have played the old anno 1701 AND 1503.  this game looks great but is more complex than the previous versions of the game. I found a lot of things lacking such as the sources of power and an inability to store energy with batteries or regenertive fuel cells as buildings in the game need power. Trade is about the same. My main beef with this it requires an internet connection. Other than that it has wonderful artistry and graphics. It is the same as anno 1701 but set in a future world where global warmming as flood the land and resource scarcity has sent human kind to look to the deep ocean for valuable minerals. I recoment the deep ocean expansion or complete if you get this. I found the ai instructor a little corny but other than that the game has some real polish. I wrote my 2 cents worth on suggestions on anno 2070 wiki and you can read 3 pages on that for game ideas I had.',\n",
       "  'summary': 'Anno 2070 more like anno 1701',\n",
       "  'unixReviewTime': 1392940800},\n",
       " {'overall': 4.0,\n",
       "  'verified': True,\n",
       "  'reviewTime': '06 27, 2013',\n",
       "  'reviewerID': 'A1EO9BFUHTGWKZ',\n",
       "  'asin': '0700026657',\n",
       "  'reviewerName': 'johnnyz3',\n",
       "  'reviewText': \"I liked it and had fun with it, played for a while and got my money's worth.  You can certainly go further than I did but I got frustrated with the fact that here we are in this new start and still taking from the earth rather than living with it. Better than simcity in that respect and maybe the best we could hope for.\",\n",
       "  'summary': 'Pretty fun',\n",
       "  'unixReviewTime': 1372291200},\n",
       " {'overall': 4.0,\n",
       "  'verified': True,\n",
       "  'reviewTime': '12 28, 2012',\n",
       "  'reviewerID': 'A2M8JTIST6FPZZ',\n",
       "  'asin': '0700026657',\n",
       "  'reviewerName': 'Amazon Customer',\n",
       "  'reviewText': \"4 Stars because they like it and play it often enough so don't feel like money is wasted. I got them one each so they can multiplay with each other.\",\n",
       "  'summary': 'My boys enjoys these strategy games',\n",
       "  'unixReviewTime': 1356652800},\n",
       " {'overall': 1.0,\n",
       "  'vote': '28',\n",
       "  'verified': False,\n",
       "  'reviewTime': '05 15, 2012',\n",
       "  'reviewerID': 'A1LMJ9W8UX1H5B',\n",
       "  'asin': '0700026657',\n",
       "  'reviewerName': 'Rob NY',\n",
       "  'reviewText': \"I've bought and played ALL of the ANNO games since 1602, and spent more hours than I can even count building massive empires with extremely complex trade routes. I was thrilled to see another installment released, but I absolutely will NOT pay for something that limits my hardware changes and installs.\\n\\nWake up UBI, look at all of your other software title reviews, both here on Amazon and on gaming sites. People are not as stupid as you think, and will simply find a different game to fill their time with and throw their money at if their freedoms are inhibited by your software.\\n\\nBy adding DRM you've actually promoted the use of piracy instead of reduced it, because those that really do want to play it will find a way.\",\n",
       "  'summary': 'SAY NO TO DRM!!',\n",
       "  'unixReviewTime': 1337040000},\n",
       " {'overall': 5.0,\n",
       "  'vote': '11',\n",
       "  'verified': True,\n",
       "  'reviewTime': '08 14, 2011',\n",
       "  'reviewerID': 'AN3YYDZAS3O1Y',\n",
       "  'asin': '0700099867',\n",
       "  'reviewerName': 'Bob',\n",
       "  'reviewText': 'Loved playing Dirt 2 and I thought the graphics were good.  Purchased Dirt 3 as an addition to the other...and the graphics are absolutely \"Gorgeous\"  If you liked Dirt or Dirt 2...you are going to love Dirt 3.  The game was easier to configure with my Logitech wireless rumblepad...and with my EVGA GTX 580, and all detail set to full on graphics at 1920 x 1080 I get over 100 fps.  The game looks good, plays well and is a blast!',\n",
       "  'summary': 'A step up from Dirt 2 and that is terrific!',\n",
       "  'unixReviewTime': 1313280000},\n",
       " {'overall': 5.0,\n",
       "  'verified': False,\n",
       "  'reviewTime': '06 28, 2011',\n",
       "  'reviewerID': 'A38NXTZUFB1O2K',\n",
       "  'asin': '0700099867',\n",
       "  'reviewerName': 'FiSH',\n",
       "  'reviewText': \"I'm not quite finished with the game's DiRT Tour mode, but I believe I've experienced the bulk of what the game has to offer.  And I'm happy to say that the game is indeed awesome.  Great cars, great tracks and racing modes, excellent gameplay and graphics.  The highlight has been racing in the snow on various tracks in Aspen.  There are also some really cool obstacle courses on pavement, which are new to the series.\\n\\nAt first, I felt that the game was plagued with the same difficulty spike DiRT 2 had, where you can win any race without trying on casual difficulty, then lose big time on medium.  Then I found the custom difficulty settings where you can choose from 5 levels of challenge, then pick and choose from all the other assists and handling options.  Basically, you can let the game play itself by just holding the throttle and steering, or take gradual steps to reach what you feel works best for you.  Love this feature!  Sadly, there is no option to increase the 360 controller's dead zone or adjust the sensitivity.  I'm doing ok as is, but some tweaking would be ideal.\\n\\nMuch like the previous two games, the handling is a bit flighty.  But that's speeding on loose ground for you.  Still, I feel things have tightened up somewhat since DiRT 2.  Still no cigar, but it's a step forward.  The game runs as smooth as silk on my 560ti wih all the settings maxed.  No issues whatsoever.  If you enjoy racing games, this is not one you should ignore.  It's the best DiRT so far.\",\n",
       "  'summary': 'Best in the series!',\n",
       "  'unixReviewTime': 1309219200},\n",
       " {'overall': 5.0,\n",
       "  'verified': False,\n",
       "  'reviewTime': '06 18, 2011',\n",
       "  'reviewerID': 'A15PIAQT55GNCA',\n",
       "  'asin': '0700099867',\n",
       "  'reviewerName': 'Suk W. Yu',\n",
       "  'reviewText': \"lot of people don't like RALLY because they already tried gran turismo game. to tell you the truth gran turismo RALLY physic is just boring boring boring. gran turismo only good for racing simulation but RALLY part is suck!!!!  dirt 2 amazed me how much fun it was and now dirt 3 with 3 time more race tracks than dirt 2.  MUST BUY!!!!!!!!!!\",\n",
       "  'summary': 'this games is amazing!!!!!!!!',\n",
       "  'unixReviewTime': 1308355200},\n",
       " {'overall': 4.0,\n",
       "  'vote': '2',\n",
       "  'verified': True,\n",
       "  'reviewTime': '06 14, 2011',\n",
       "  'reviewerID': 'A361M14PU2GUEG',\n",
       "  'asin': '0700099867',\n",
       "  'reviewerName': 'Angry Ryan',\n",
       "  'reviewText': 'I had Dirt 2 on Xbox 360 and it was an okay game. I started playing games on my laptop and bought a few new games to build my collection. This game is very fun to play. It is so much better than Dirt 2. If you like racing games you should check this out. The graphics are perfect on my compter.',\n",
       "  'summary': 'DIRT 3',\n",
       "  'unixReviewTime': 1308009600},\n",
       " {'overall': 5.0,\n",
       "  'vote': '14',\n",
       "  'verified': False,\n",
       "  'reviewTime': '06 13, 2011',\n",
       "  'reviewerID': 'A2LQCBLLJVVR5T',\n",
       "  'asin': '0700099867',\n",
       "  'reviewerName': 'Timmiley',\n",
       "  'reviewText': 'This is a must have for any gamer. Codemasters really hit a home run on this one. I would like to see F1 2011 be this good using the ego engine 2.0 and the physics model in this game is right on the money. This game is the reason everyone should buy the best graphics card they can afford. I am using a nvidia 460 overclocked, and I have on order a 590. I want to run this game with everything on highest level. I swear to you that even with the 460 + , the graphics are very realistic and I really enjoy racing at ground level. This game makes Codemasters the king of graphics realism. BUY THIS GAME !!!!!\\n\\nDecember 6, 2011  I saw my review of the Internet and wanted to update it for you. First of all anyone with this program, BUY the extra environments and cars. It is money well spent and a first class job of an addon. I wanted everyone to know that this program is still the top of the heap in graphics. I bought Battlefield 3 and it is good, but not the standard of the ego 2 engine. Codemasters are the king of graphics so far and I find that the more realism a game has, the more adicted you will become. No other program running with all variables to the max, looks like Dirt 3. Thank God for codemasters and I can hardly wait for GRID 2 in the summer.',\n",
       "  'summary': 'BEST GRAPHICS OF ANY GAME SO FAR !!!!',\n",
       "  'unixReviewTime': 1307923200},\n",
       " {'overall': 1.0,\n",
       "  'verified': True,\n",
       "  'reviewTime': '05 18, 2013',\n",
       "  'reviewerID': 'A1NQ759X8WPIVV',\n",
       "  'asin': '0700026398',\n",
       "  'reviewerName': 'Lynn',\n",
       "  'reviewText': \"I'm sure I would love the game, if I could play it, I have loved all the Hitman games thus far.  The one star is due to steam.  Steam is absolutely beyond annoying and they do NOT help you if you ask them.  I found out after I purchased it that windows xp does not support direct X-10.  I do have a high end video card but it doesn't make a difference.  I recommend that no one purchase any games or other items that require steam.  Perhaps then they will fix all the problems or go out of business (my favorite option).  I am very good with computers (built mine) so that is not the problem.  As always it's a steam issue.\",\n",
       "  'summary': 'Requires steam',\n",
       "  'unixReviewTime': 1368835200},\n",
       " {'overall': 1.0,\n",
       "  'verified': False,\n",
       "  'reviewTime': '01 10, 2013',\n",
       "  'reviewerID': 'APFCXOFX0KUPN',\n",
       "  'asin': '0700026398',\n",
       "  'reviewerName': '--',\n",
       "  'reviewText': \"Update June 2013:\\nDeeply disappointed at the lack of a non-linear open-world environment. But its the restrictive QTE gameplay and final-kill cut-scenes that kill the game for me. I loath enforced QTE. When a mission goes awry and you're trying to escape a hail of bullets, if you happen to brush past an assailant you can't escape QTE mode. Meanwhile you're being shot at from all sides. It just lacks the sense of freedom that Blood Money had, and it takes you out of the whole gaming experience placing you instead into a second-rate interactive movie.\\n\\nAs a loyal fan of the Hitman franchise, I waited years for this. I would have loved if they had added driving into the game in order to rival Saints Row or the GTA series etc. What they did add took away from the game. For instance they should have kept the semi-open-worlds of Blood Money and build-on those beautiful sets, maps and locations.\\n\\nI would have loved if Hitman had been as open as Skyrim. Overall Dishonored's gameplay is a far superior hitman style gaming experience. But I wish they had had Bioshock Infinite's breathtaking visuals in that particular game.\\n\\n==================================================================\\n\\nWow after all these years waiting-- this is it.....?!!!\\n\\nI am still a huge fan of Blood Money. The fact that you can now play it again online for free is a huge plus! To play, all you have to do is watch a 30-second ad on mute and you get sufficient time to play a level. Who can complain about that? But this, what took them so long to produce a bad cousin of Metal Gear Solid?!\\n\\nIntuition....? STOP! STOP! STOP Please let me use my own intuition! And what is it with the game constantly talking to you like you're an idiot? All this serves to do is kill any the sense of atmosphere, tension and suspense!\\n\\nYou want to know how bad this game is....? They use cut scenes for the final kill, thus killing any sense of pay off! And you can't even skip through the intro level! Hello? This was a cult game... So lots of people know how to play it and don't need this hand holding to be mandatory!\\n\\nThe graphics too are little improvement over Blood Money, and are definitely a let down compared to the current generation of games. There is less of a non-linear feel about this version also. Now you're not quite tied to a string as you walk through levels, but its sub par compared with the freedom of its predecessor IMHO.\\n\\nSuch a shame, such a shame. But good for me as I embark on a career in Video Game Design. It gives me confidence that I might have something better to bring to the table.\",\n",
       "  'summary': 'Skip!',\n",
       "  'unixReviewTime': 1357776000},\n",
       " {'overall': 4.0,\n",
       "  'vote': '12',\n",
       "  'verified': False,\n",
       "  'reviewTime': '12 26, 2012',\n",
       "  'reviewerID': 'A2GPRA9HHLOC4B',\n",
       "  'asin': '0700026398',\n",
       "  'reviewerName': 'Wicasawakan',\n",
       "  'reviewText': 'I will open with the Pros:\\nReplayability - It\\'s Hitman. What did you expect? You can go back and replay missions over and over to try for a cleaner, quicker kill or just fly right through it in a weekend like I did.\\nLength of game - Do not listen to reviews such as Xbox Official Magazine saying it is a lengthy game. I finished it in one weekend. Friday night, Sat and Sunday. I would estimate around 10-12 hours solid play. BUT..If you go back and replay the missions for a better score, then it can drag out much further. But like I said, to play through and complete the tasks, it is not a long game.\\nStory - Not bad at all. A few plot holes made me scratch my head but not bad.\\nOverall Graphics - Better than the old Hitman games but nothing at all like cut scenes. Don\\'t confuse cut scenes in the trailers as gameplay.\\nCharacter dev - Although they give you a little info on specific targets, it didn\\'t seem worth the effort to look any deeper into their back story. I just went forth on a killing spree. You point me in that direction? Here I go. There\\'s no option to ever take a person into custody and question them. You kill anyone who you are pointed at.\\nHand to hand - They kept it simple. between space bar, \"Q, W or E\" were your controls to hit when it told you to hit that key. It wasn\\'t hard to do hand to hand. It wasn\\'t 100% awesome like Batman but it was pretty good.\\nCons:\\nOMG why did all the people in close-up cut scenes talk with all their teeth showing? It really got annoying. I have never in my life met a person who talks like that. Also, the timing of the voice acting was bad. Serious delays in dialogue had me thinking the conversation was over then it started up again. So, voice acting wasn\\'t bad, but developers did a poor job clipping it.\\nGraphics - In regards to clipping, I would sometimes get blocked by phantom walls while sneaking up steps. I had to walk back and forth until it let me pass. Also, it would say there was a key point right in front of me (blinking sonar circles) and there was nothing there. No desk, nothing to pick up and it was floating in the air. More developer issues.\\n(Minor Spoiler) Don\\'t read if you can\\'t take hints.\\nSheer ease of killing other professional hitmen was a let down. I couldn\\'t believe how easy it was to kill hired professionals.\\n\\nProfessional Edition: Do not waste your money. I got some weapons you can\\'t even use in the game. It gives you the loadout at the begining and the weapons around the map are all based off that part of the game. No point in having access to the additional weapons.\\nSniper challenge is ONE challenge. I beat it hands down and it never took me to a new challenge. It just lets you do the same challenge over and over.\\nAll in all, it\\'s a good game discounted at 1/2 price or lower. Don\\'t waste your $ on the Pro Edition.',\n",
       "  'summary': 'Great game with design flaws',\n",
       "  'unixReviewTime': 1356480000}]"
      ]
     },
     "execution_count": 5,
     "metadata": {},
     "output_type": "execute_result"
    }
   ],
   "source": [
    "dataset3"
   ]
  },
  {
   "cell_type": "code",
   "execution_count": null,
   "id": "22193102",
   "metadata": {},
   "outputs": [],
   "source": []
  }
 ],
 "metadata": {
  "kernelspec": {
   "display_name": "Python 3 (ipykernel)",
   "language": "python",
   "name": "python3"
  },
  "language_info": {
   "codemirror_mode": {
    "name": "ipython",
    "version": 3
   },
   "file_extension": ".py",
   "mimetype": "text/x-python",
   "name": "python",
   "nbconvert_exporter": "python",
   "pygments_lexer": "ipython3",
   "version": "3.9.5"
  },
  "toc": {
   "base_numbering": 1,
   "nav_menu": {},
   "number_sections": true,
   "sideBar": true,
   "skip_h1_title": false,
   "title_cell": "Table of Contents",
   "title_sidebar": "Contents",
   "toc_cell": false,
   "toc_position": {},
   "toc_section_display": true,
   "toc_window_display": false
  },
  "varInspector": {
   "cols": {
    "lenName": 16,
    "lenType": 16,
    "lenVar": 40
   },
   "kernels_config": {
    "python": {
     "delete_cmd_postfix": "",
     "delete_cmd_prefix": "del ",
     "library": "var_list.py",
     "varRefreshCmd": "print(var_dic_list())"
    },
    "r": {
     "delete_cmd_postfix": ") ",
     "delete_cmd_prefix": "rm(",
     "library": "var_list.r",
     "varRefreshCmd": "cat(var_dic_list()) "
    }
   },
   "types_to_exclude": [
    "module",
    "function",
    "builtin_function_or_method",
    "instance",
    "_Feature"
   ],
   "window_display": false
  }
 },
 "nbformat": 4,
 "nbformat_minor": 5
}
