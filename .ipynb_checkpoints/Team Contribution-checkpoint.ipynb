{
 "cells": [
  {
   "cell_type": "markdown",
   "id": "cfaf254c",
   "metadata": {},
   "source": [
    "## Team Contribution\n"
   ]
  },
  {
   "cell_type": "markdown",
   "id": "64f91887",
   "metadata": {},
   "source": [
    "### Zelong Wang"
   ]
  },
  {
   "cell_type": "markdown",
   "id": "3a44b7f1",
   "metadata": {},
   "source": [
    "- Gathered Data Set, filtered 14.3gb (75.26 million reviews) data of 29 categories, and sampled into json format dataset of 25 categories with 340,839 records\n",
    "- Converted the dataset into Bipartite graph with edge attributes (time, rating) and node attributes (category)\n",
    "- Built simulation of new user-item interaction (new reviews) as time increases (2016-2018)\n",
    "- Built visualization method of the vanilla network.\n",
    "- Explored projection problems in Clustering Coefficient, and compared bipartite clustering and unipartite clustering on projection\n",
    "- Doing hubs and authorities\n",
    "- Doing K-clique communities\n"
   ]
  },
  {
   "cell_type": "code",
   "execution_count": null,
   "id": "6027bb31",
   "metadata": {},
   "outputs": [],
   "source": []
  },
  {
   "cell_type": "markdown",
   "id": "fc370224",
   "metadata": {},
   "source": [
    "### Richard Tang"
   ]
  },
  {
   "cell_type": "code",
   "execution_count": null,
   "id": "031242b4",
   "metadata": {},
   "outputs": [],
   "source": []
  },
  {
   "cell_type": "code",
   "execution_count": null,
   "id": "f753dc6f",
   "metadata": {},
   "outputs": [],
   "source": []
  },
  {
   "cell_type": "code",
   "execution_count": null,
   "id": "be59ede6",
   "metadata": {},
   "outputs": [],
   "source": []
  },
  {
   "cell_type": "code",
   "execution_count": null,
   "id": "864ea7b8",
   "metadata": {},
   "outputs": [],
   "source": []
  },
  {
   "cell_type": "code",
   "execution_count": null,
   "id": "dbadf823",
   "metadata": {},
   "outputs": [],
   "source": []
  },
  {
   "cell_type": "markdown",
   "id": "b30f2463",
   "metadata": {},
   "source": [
    "Goal: \n",
    "1. by applying network analysis on Amazon purchase data, generate insights on the structure of data and explore various netowrk properties which could potentially be useful when building a recommender system. \\\n",
    "2. Based on what we learned in class, comapre the difference between unipartite graph and bipartite graph, try to migrate similar ideas to bipartite graph."
   ]
  }
 ],
 "metadata": {
  "kernelspec": {
   "display_name": "Python 3 (ipykernel)",
   "language": "python",
   "name": "python3"
  },
  "language_info": {
   "codemirror_mode": {
    "name": "ipython",
    "version": 3
   },
   "file_extension": ".py",
   "mimetype": "text/x-python",
   "name": "python",
   "nbconvert_exporter": "python",
   "pygments_lexer": "ipython3",
   "version": "3.8.12"
  },
  "toc": {
   "base_numbering": 1,
   "nav_menu": {},
   "number_sections": true,
   "sideBar": true,
   "skip_h1_title": false,
   "title_cell": "Table of Contents",
   "title_sidebar": "Contents",
   "toc_cell": false,
   "toc_position": {},
   "toc_section_display": true,
   "toc_window_display": false
  },
  "varInspector": {
   "cols": {
    "lenName": 16,
    "lenType": 16,
    "lenVar": 40
   },
   "kernels_config": {
    "python": {
     "delete_cmd_postfix": "",
     "delete_cmd_prefix": "del ",
     "library": "var_list.py",
     "varRefreshCmd": "print(var_dic_list())"
    },
    "r": {
     "delete_cmd_postfix": ") ",
     "delete_cmd_prefix": "rm(",
     "library": "var_list.r",
     "varRefreshCmd": "cat(var_dic_list()) "
    }
   },
   "types_to_exclude": [
    "module",
    "function",
    "builtin_function_or_method",
    "instance",
    "_Feature"
   ],
   "window_display": false
  }
 },
 "nbformat": 4,
 "nbformat_minor": 5
}
