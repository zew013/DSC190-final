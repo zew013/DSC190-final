{
 "cells": [
  {
   "cell_type": "code",
   "execution_count": null,
   "id": "34b6006f",
   "metadata": {},
   "outputs": [],
   "source": []
  },
  {
   "cell_type": "code",
   "execution_count": null,
   "id": "1318e735",
   "metadata": {
    "slideshow": {
     "slide_type": "skip"
    }
   },
   "outputs": [],
   "source": [
    "import gzip\n",
    "from tqdm import tqdm\n",
    "import json\n",
    "import pandas as pd\n",
    "import numpy as np\n",
    "import networkx as nx\n",
    "from networkx.algorithms import bipartite, community, betweenness_centrality\n",
    "import matplotlib.pyplot as plt\n",
    "import matplotlib.colors as mcolors\n",
    "import datetime\n",
    "import random\n",
    "import birankpy as br"
   ]
  },
  {
   "cell_type": "code",
   "execution_count": null,
   "id": "2ec63552",
   "metadata": {
    "slideshow": {
     "slide_type": "skip"
    }
   },
   "outputs": [],
   "source": [
    "with open('all_data.json' , 'r') as f:\n",
    "    data = list(map(json.loads, f))"
   ]
  },
  {
   "cell_type": "code",
   "execution_count": null,
   "id": "dad3d57a",
   "metadata": {
    "slideshow": {
     "slide_type": "skip"
    }
   },
   "outputs": [],
   "source": [
    "with open('all_data2.json' , 'r') as f:\n",
    "    data2 = list(map(json.loads, f))"
   ]
  },
  {
   "cell_type": "markdown",
   "id": "2ffd1557",
   "metadata": {
    "slideshow": {
     "slide_type": "skip"
    }
   },
   "source": [
    "### convert into dataframe"
   ]
  },
  {
   "cell_type": "code",
   "execution_count": null,
   "id": "1b02fa0e",
   "metadata": {
    "slideshow": {
     "slide_type": "skip"
    }
   },
   "outputs": [],
   "source": [
    "def to_df(data):\n",
    "    rating = []\n",
    "    verified = []\n",
    "    user = []\n",
    "    asin = []\n",
    "    review = []\n",
    "    summary = []\n",
    "    time = []\n",
    "    category = []\n",
    "    for i in data:\n",
    "\n",
    "        rating.append(i['overall'])\n",
    "        verified.append(i['verified'])\n",
    "        user.append(i['reviewerID'])\n",
    "        asin.append(i['asin'])\n",
    "        if 'reviewText' not in i:\n",
    "            review.append(np.nan)\n",
    "        else:\n",
    "            review.append(i['reviewText'])\n",
    "        if 'summary' not in i:\n",
    "            summary.append(np.nan)\n",
    "        else:\n",
    "            summary.append(i['summary'])\n",
    "        time.append(i['unixReviewTime'])\n",
    "        category.append(i['category'][:-2])\n",
    "    df = pd.DataFrame({\n",
    "                    'rating':rating, \n",
    "                    'verified': verified, \n",
    "                    'user': user,\n",
    "                    'asin':asin,\n",
    "                    'review':review,\n",
    "                    'summary': summary,\n",
    "                    'time':time,\n",
    "                    'category': category\n",
    "    })\n",
    "    return df\n",
    "df = to_df(data)\n",
    "df2 = to_df(data2)"
   ]
  },
  {
   "cell_type": "code",
   "execution_count": null,
   "id": "48e2d8cd",
   "metadata": {
    "slideshow": {
     "slide_type": "skip"
    }
   },
   "outputs": [],
   "source": [
    "df[df['review'].isnull() | df['summary'].isnull()]"
   ]
  },
  {
   "cell_type": "code",
   "execution_count": null,
   "id": "b1ac3140",
   "metadata": {
    "scrolled": true,
    "slideshow": {
     "slide_type": "skip"
    }
   },
   "outputs": [],
   "source": [
    "df.sort_values(by = 'time')"
   ]
  },
  {
   "cell_type": "code",
   "execution_count": null,
   "id": "bfcf91ed",
   "metadata": {
    "slideshow": {
     "slide_type": "skip"
    }
   },
   "outputs": [],
   "source": [
    "item_in_cat = df.groupby('category')['asin'].agg(set)\n",
    "item_in_cat"
   ]
  },
  {
   "cell_type": "code",
   "execution_count": null,
   "id": "9cec3257",
   "metadata": {
    "slideshow": {
     "slide_type": "skip"
    }
   },
   "outputs": [],
   "source": [
    "df2.sort_values(by = 'time')"
   ]
  },
  {
   "cell_type": "code",
   "execution_count": null,
   "id": "7db83aa3",
   "metadata": {
    "slideshow": {
     "slide_type": "skip"
    }
   },
   "outputs": [],
   "source": [
    "class Simulation:\n",
    "    def __init__(self, df, di = False):\n",
    "        \n",
    "        self.model = nx.DiGraph() if di else nx.Graph()\n",
    "        self.df = df.sort_values(by = 'time')\n",
    "        self.item_cat = df.groupby('asin')['category'].max()\n",
    "        self.last = 0\n",
    "        \n",
    "        self.cat_model = nx.Graph()\n",
    "        self.category = sorted(self.df['category'].unique())\n",
    "        #min t: 1451692800 max t: 1538524800\n",
    "        self.color = self.setup_color()\n",
    "        self.pos = self.setup_pos()\n",
    "    def setup_color(self):\n",
    "        color_options = ['red', 'coral', 'crimson', 'cyan', 'beige', 'brown', 'chartreuse','banana', 'darkgreen',\n",
    "                 'fuchsia', 'gold', 'green', 'grey', 'khaki', 'lavender', 'lime', 'olive',\n",
    "                 'orange', 'orchid', 'purple', 'teal', 'wheat', 'yellow', 'aquamarine', 'goldenrod'\n",
    "                \n",
    "                ]\n",
    "        color_options = ['xkcd:' + i for i in color_options]\n",
    "        \n",
    "        return {self.category[i] : color_options[i] for i in range(len(self.category))}\n",
    "    \n",
    "    def setup_pos(self):\n",
    "        \n",
    "        return {self.category[i] : i for i in range(len(self.category))}\n",
    "    \n",
    "    def add_node(self, t_start: int, t_end: int):\n",
    "        \n",
    "        df_part = self.df[(self.df['time'] >= t_start) & (self.df['time'] <= t_end)]\n",
    "        self.last = df_part.iloc[-1]['time']\n",
    "        '''\n",
    "        user_added = set(df_part['user'])\n",
    "        self.model.add_nodes_from([(node, {'category':'user'}) for node in user_added], bipartite=0)\n",
    "        \n",
    "        item_added = set(df_part[['asin', 'category']].itertuples(index=False, name=None))\n",
    "        self.model.add_nodes_from([(node, {'category':category}) for (node, category) in item_added], bipartite=1)\n",
    "        '''\n",
    "        df_part['line_attr'] = df_part.apply(lambda x: {'time': x['time'], 'rating':x['rating']}, axis = 1)\n",
    "        self.model.add_edges_from(df_part[['user','asin','line_attr']].itertuples(index=False, name=None))\n",
    "        for i in self.model:\n",
    "            if i in self.item_cat:\n",
    "                self.model.nodes[i]['category'] = self.item_cat[i]\n",
    "                self.model.nodes[i]['bipartite'] = 1\n",
    "            else:\n",
    "                self.model.nodes[i]['category'] = 'user'\n",
    "                self.model.nodes[i]['bipartite'] = 0\n",
    "    \n",
    "    def cat_add_node(self, t_start: int, t_end: int):\n",
    "        df_part = self.df[(self.df['time'] >= t_start) & (self.df['time'] <= t_end)]\n",
    "        self.last = df_part.iloc[-1]['time']\n",
    "\n",
    "        df_part['line_attr'] = df_part.apply(lambda x: {'time': x['time'], 'rating':x['rating']}, axis = 1)\n",
    "        self.cat_model.add_edges_from(df_part[['user','category','line_attr']].itertuples(index=False, name=None))\n",
    "        for i in self.cat_model:\n",
    "            if i in self.category:\n",
    "                self.cat_model.nodes[i]['bipartite'] = 1\n",
    "            else:\n",
    "                self.cat_model.nodes[i]['bipartite'] = 0\n",
    "    \n",
    "        \n",
    "    def get_cat_sets(self) -> tuple:\n",
    "        top_nodes = {n for n, d in self.cat_model.nodes(data=True) if d[\"bipartite\"] == 0}\n",
    "\n",
    "        return bipartite.sets(self.cat_model, top_nodes)\n",
    "        \n",
    "    def get_sets(self) -> tuple:\n",
    "\n",
    "        top_nodes = {n for n, d in self.model.nodes(data=True) if d[\"bipartite\"] == 0}\n",
    "        #bottom_nodes = set(self.model) - top_nodes\n",
    "        return bipartite.sets(self.model, top_nodes)\n",
    "\n",
    "    \n",
    "    def get_cat_color_pos(self, model = None):\n",
    "            \n",
    "        color_map = []\n",
    "        pos = {}\n",
    "\n",
    "    \n",
    "        \n",
    "        for i in self.cat_model:\n",
    "            cat = self.cat_model.nodes[i]['bipartite']\n",
    "    \n",
    "            if  cat == 0:\n",
    "                color_map.append('xkcd:blue')\n",
    "                height = (list(dict(self.cat_model[i]).values())[0]['time'] - 1451692800) / (4*864000)\n",
    "                pos[i] = [np.random.uniform(0,1), np.random.uniform(height-0.5, height + 0.5)]\n",
    "                \n",
    "            else:\n",
    "                color_map.append(self.color[i])\n",
    "                pos[i] = [5, self.pos[i] * 1.1]\n",
    "        return color_map, pos\n",
    "\n",
    "            \n",
    "    def get_color_pos(self, model = None):\n",
    "        color_map = []\n",
    "        pos = {}\n",
    "        \n",
    "        if model != None:\n",
    "            for i in model:\n",
    "                cat = model.nodes[i]['category']\n",
    "\n",
    "                if  cat == 'user':\n",
    "                    color_map.append('xkcd:blue')              \n",
    "\n",
    "                else:\n",
    "                    color_map.append(self.color[cat])\n",
    "\n",
    "            return color_map\n",
    "        \n",
    "        a = iter(self.model)\n",
    "        a1 = next(a)\n",
    "        a2 = next(a)\n",
    "        height = (self.model[a1][a2]['time'] - 1451692800) / (4*864000)\n",
    "\n",
    "        for i in self.model:\n",
    "            cat = self.model.nodes[i]['category']\n",
    "            \n",
    "            if cat == 'user':\n",
    "                last = i\n",
    "            else:\n",
    "                if i in self.model[last]:\n",
    "                    height = (self.model[last][i]['time'] - 1451692800) / (4*864000)\n",
    "                \n",
    "            if  cat == 'user':\n",
    "                color_map.append('xkcd:blue')\n",
    "                pos[i] = (np.random.uniform(0,1), np.random.uniform(height-0.5, height + 0.5))\n",
    "            else:\n",
    "                color_map.append(self.color[cat])\n",
    "                pos[i] = (np.random.uniform(4,5), np.random.uniform(height-0.5, height + 0.5))\n",
    "            \n",
    "        return color_map, pos\n",
    "\n",
    "    def draw(self, fig_size = (12,30), node_size = 2, width = 0.09, save = False, labels=None):\n",
    "        \n",
    "        plt.figure(figsize = fig_size)\n",
    "        print(1)\n",
    "        color_map, pos = self.get_color_pos()\n",
    "        print(2)\n",
    "        if node_size:\n",
    "            print(3)\n",
    "            nx.draw(self.model, node_size = node_size, pos = pos, width = width, node_color=color_map, labels = labels)\n",
    "            print(4)\n",
    "        else:\n",
    "            print(5)\n",
    "            d = dict(self.model.degree)\n",
    "            print(6)\n",
    "            nx.draw(self.model, node_size = [v**0.3 for v in d.values()], pos = pos, width = width, node_color=color_map, labels = labels)\n",
    "            print(7)\n",
    "        \n",
    "        if save:\n",
    "            latest = self.last\n",
    "            \n",
    "            dt = datetime.date.fromtimestamp(latest)\n",
    "            plt.title(\"Until: {}\".format(dt))\n",
    "            plt.savefig('./plots/Amazon{}.png'.format(dt), bbox_inches='tight')\n",
    "        print('end')\n",
    "        '''nx.draw_networkx(\n",
    "        self.model,\n",
    "        pos = nx.drawing.layout.bipartite_layout(self.model, self.get_sets()[0]),\n",
    "        node_size = 3,\n",
    "        with_labels=False,\n",
    "        width = 0.03)''' # Or whatever other display options you like\n",
    "    def draw_sub(self, nodes = [], fig_size = (10,10), width = 0.8, node_size = 20, with_labels = False, labels = None,layout = nx.fruchterman_reingold_layout, **kwds):\n",
    "\n",
    "        sub = nx.subgraph(self.model, nodes)\n",
    "        color_map = self.get_color_pos(model = sub)\n",
    "\n",
    "        pos = layout(sub, **kwds)\n",
    "        if labels:\n",
    "            labels = {nodes[0]:nodes[0]}\n",
    "        plt.figure(figsize = fig_size)\n",
    "        if node_size:\n",
    "            nx.draw(sub, node_size = node_size, width = width, node_color=color_map, with_labels = with_labels, labels = labels, pos = pos, **kwds)\n",
    "        else:\n",
    "            d = dict(sub.degree)\n",
    "            nx.draw(sub, node_size =[80*v**0.5 for v in d.values()], width = width, node_color=color_map, with_labels = with_labels, labels = labels, pos = pos, **kwds)\n",
    "        plt.legend()\n",
    "    def draw_cat(self, fig_size = (20,20), width = 0.004, save = False):\n",
    "        plt.figure(figsize = fig_size)\n",
    "        \n",
    "        d = dict(self.cat_model.degree)\n",
    "        color_map, pos = self.get_cat_color_pos()\n",
    "        #pos = nx.drawing.layout.bipartite_layout(self.cat_model, self.get_cat_sets()[0])\n",
    "        nx.draw_networkx(\n",
    "        self.cat_model,\n",
    "        pos = pos,\n",
    "        node_size = [v/5 for v in d.values()],\n",
    "        with_labels=False,\n",
    "        width = width,\n",
    "        node_color=color_map)\n",
    "        \n",
    "        labels = {}   \n",
    "        for i in self.category:\n",
    "            if i in pos:\n",
    "                pos[i][0] += 0.2\n",
    "                labels[i] = i\n",
    "        \n",
    "        nx.draw_networkx_labels(self.cat_model,pos,labels,font_size=10,font_color='r')\n",
    "        if save:\n",
    "            latest = self.last\n",
    "            \n",
    "            dt = datetime.date.fromtimestamp(latest)\n",
    "            plt.title(\"Until: {}\".format(dt))\n",
    "            plt.savefig('./plots/Amazon_cat{}.png'.format(dt), bbox_inches='tight')\n",
    "            return\n",
    "        plt.show()\n",
    "    def get_projection(self, s: int,graph = 0) -> nx.classes.graph.Graph:\n",
    "        if graph == 0:\n",
    "            bi_sets = self.get_sets()\n",
    "        \n",
    "            return bipartite.projected_graph(self.model, bi_sets[s])\n",
    "        else:\n",
    "            bi_sets = self.get_cat_sets()\n",
    "            return bipartite.projected_graph(self.cat_model, bi_sets[s])\n",
    "        \n",
    "    "
   ]
  },
  {
   "cell_type": "code",
   "execution_count": null,
   "id": "b118c3d6",
   "metadata": {},
   "outputs": [],
   "source": [
    "if 4:\n",
    "    print(2)\n",
    "else"
   ]
  },
  {
   "cell_type": "code",
   "execution_count": null,
   "id": "6d880934",
   "metadata": {},
   "outputs": [],
   "source": [
    "\n",
    "#s = Simulation(df[['rating','user','asin','time','category']], di = False)\n",
    "#s.add_node(0, 1698524800)\n",
    "\n",
    "s2 = Simulation(df2[['rating','user','asin','time','category']], di = False)\n",
    "s2.model.nodes()\n",
    "s2.add_node(0, 1698524800)"
   ]
  },
  {
   "cell_type": "markdown",
   "id": "0b8fcbfe",
   "metadata": {},
   "source": [
    "## Draw"
   ]
  },
  {
   "cell_type": "code",
   "execution_count": null,
   "id": "85894bc6",
   "metadata": {
    "scrolled": true
   },
   "outputs": [],
   "source": [
    "\n",
    "#labels = {i:i for i in labels}\n",
    "s2.draw(width = 0.01, labels = None, node_size = 2)"
   ]
  },
  {
   "cell_type": "code",
   "execution_count": null,
   "id": "9b73bd9c",
   "metadata": {},
   "outputs": [],
   "source": [
    "for i in s2.model['B01FAHYO0O']:\n",
    "    print(i)"
   ]
  },
  {
   "cell_type": "code",
   "execution_count": null,
   "id": "9749e04e",
   "metadata": {},
   "outputs": [],
   "source": [
    "\n",
    "def get_list(asin, ifm = False):\n",
    "    nodes = []\n",
    "    nodes.append(asin)\n",
    "    # i = users\n",
    "    for i in s2.model[asin]:\n",
    "        if i not in nodes:\n",
    "            nodes.append(i)\n",
    "        # j = items\n",
    "        for j in s2.model[i]:\n",
    "            if j not in nodes:\n",
    "                nodes.append(j)\n",
    "            # k = users\n",
    "            for k in s2.model[j]:\n",
    "                if k not in nodes:\n",
    "                    nodes.append(k)\n",
    "                \n",
    "                # m = items\n",
    "                if ifm:\n",
    "                    for m in s2.model[k]:\n",
    "                        if m not in nodes:\n",
    "                            nodes.append(m)\n",
    "    return nodes\n",
    "\n",
    "        "
   ]
  },
  {
   "cell_type": "code",
   "execution_count": null,
   "id": "c1cfa357",
   "metadata": {},
   "outputs": [],
   "source": [
    "print(nx.fruchterman_reingold_layout)"
   ]
  },
  {
   "cell_type": "code",
   "execution_count": null,
   "id": "2173ad3f",
   "metadata": {
    "scrolled": false
   },
   "outputs": [],
   "source": [
    "nodes = get_list('B01FAHYO0O', ifm = False)\n",
    "s2.draw_sub(nodes, node_size = None, fig_size = (8,8), with_labels = True,labels = True, layout = nx.spring_layout)\n"
   ]
  },
  {
   "cell_type": "code",
   "execution_count": null,
   "id": "7d981e5f",
   "metadata": {},
   "outputs": [],
   "source": [
    "nodes = get_list('B013L4ZYIY', ifm = False)\n",
    "s2.draw_sub(nodes, node_size = 0, fig_size = (8,8), with_labels = True,labels = True)\n"
   ]
  },
  {
   "cell_type": "code",
   "execution_count": null,
   "id": "beb63347",
   "metadata": {},
   "outputs": [],
   "source": [
    "nodes = get_list('B001IANIDM', ifm = False)\n",
    "s2.draw_sub(nodes, node_size = 0, fig_size = (8,8), with_labels = True,labels = True)\n"
   ]
  },
  {
   "cell_type": "code",
   "execution_count": null,
   "id": "6beea5a9",
   "metadata": {},
   "outputs": [],
   "source": [
    "df2[df2['asin'] == 'B01FAHYO0O']"
   ]
  },
  {
   "cell_type": "code",
   "execution_count": null,
   "id": "45c86311",
   "metadata": {},
   "outputs": [],
   "source": [
    "df2[df2['user'] == 'A21A7LZUGD9OXR']['category'].value_counts()"
   ]
  },
  {
   "cell_type": "code",
   "execution_count": null,
   "id": "2bdd85a0",
   "metadata": {},
   "outputs": [],
   "source": []
  },
  {
   "cell_type": "markdown",
   "id": "aed61ef6",
   "metadata": {
    "slideshow": {
     "slide_type": "skip"
    }
   },
   "source": [
    "## Category increase GIF"
   ]
  },
  {
   "cell_type": "code",
   "execution_count": null,
   "id": "3fe47a55",
   "metadata": {
    "slideshow": {
     "slide_type": "skip"
    }
   },
   "outputs": [],
   "source": [
    "'''\n",
    "s4 = Simulation(df2[['rating','user','asin','time','category']], di = False)\n",
    "s4.model.nodes()\n",
    "#s4.add_node(1527836400, 1698524800)\n",
    "s4.cat_add_node(0, 1698524800)\n",
    "'''"
   ]
  },
  {
   "cell_type": "raw",
   "id": "3df4cce2",
   "metadata": {
    "slideshow": {
     "slide_type": "skip"
    }
   },
   "source": [
    "s4 = Simulation(df2[['rating','user','asin','time','category']], di = False)\n",
    "before = 0\n",
    "# min, max, month\n",
    "#for i in range(1451692800, 1538438401, 2592000):\n",
    "for i in range(1451692800 - 2592000, 1538438401, 2592000):\n",
    "    #s4.add_node(1527836400, 1698524800)\n",
    "    s4.cat_add_node(i, i + 2592000)\n",
    "    s4.draw_cat(save = True)"
   ]
  },
  {
   "cell_type": "code",
   "execution_count": null,
   "id": "0c02021c",
   "metadata": {
    "slideshow": {
     "slide_type": "skip"
    }
   },
   "outputs": [],
   "source": [
    "from zipfile import ZipFile\n",
    "import os\n",
    "zipObj = ZipFile('gif.zip', 'w')\n",
    "\n",
    "for filename in os.listdir('./plots'):\n",
    "    zipObj.write('./plots/' + filename)\n",
    "zipObj.close()"
   ]
  },
  {
   "cell_type": "code",
   "execution_count": null,
   "id": "c8262f14",
   "metadata": {
    "slideshow": {
     "slide_type": "skip"
    }
   },
   "outputs": [],
   "source": [
    "df2[df2['category'] == 'Appliances']"
   ]
  },
  {
   "cell_type": "markdown",
   "id": "d8c943a2",
   "metadata": {
    "slideshow": {
     "slide_type": "skip"
    }
   },
   "source": [
    "## Get separate part"
   ]
  },
  {
   "cell_type": "code",
   "execution_count": null,
   "id": "301a7c7d",
   "metadata": {
    "slideshow": {
     "slide_type": "skip"
    }
   },
   "outputs": [],
   "source": [
    "s.model.edges()"
   ]
  },
  {
   "cell_type": "code",
   "execution_count": null,
   "id": "13bad3f4",
   "metadata": {
    "slideshow": {
     "slide_type": "skip"
    }
   },
   "outputs": [],
   "source": [
    "df[['rating','user','asin','time','category']][:10000][df[['rating','user','asin','time','category']][:10000]['asin'] == 'B000HCLLMM']\n"
   ]
  },
  {
   "cell_type": "markdown",
   "id": "126adc57",
   "metadata": {
    "slideshow": {
     "slide_type": "slide"
    }
   },
   "source": [
    "## Clustering Coefficient Problems"
   ]
  },
  {
   "cell_type": "markdown",
   "id": "955b7a42",
   "metadata": {
    "slideshow": {
     "slide_type": "subslide"
    }
   },
   "source": [
    "### Why important?\n",
    "Clustering coefficient is an important feature of the network which can help us understand the overall structure of the netork, how dense nodes are related. \\\n",
    "One intuition applying clustering coefficient in our network might be this: imagine a case with high clustering coefficient for node A. Items bought by the users who bought A were also bought by other users who bought these items. In simple words, a group of customers are buying this group of items.\n",
    "To exemplify this, I randomly choose a node with high clustering coefficient of 0.9. We can see the product is about some sewing and hand craft tools. Then when we check all other items the user bought, we can find they are from similar categories. To save time, we won't look at them one-by-one, but it's reasonable to assume that people who buy one of these items would probably buy another. \n",
    "Here is an random example of a low clustering coefficient of around 0.1. Based on our intuition, there is no specific label that we could confidently put on this purchase. People who bought this pants would probably buy other very different stuff. \n",
    "Here is an random example of a clustering coefficient of around 0.5. My intuition tells me it makes sense because we could put more specific labels on people who buy a new bed. I could guess they might also buy a new pillow or a new sheet.\n",
    "Therefore, one use of clustering coefficient in our case could be a reflector of nicheness. Whether a product is facing universal customers or some specific target group."
   ]
  },
  {
   "cell_type": "markdown",
   "id": "aae39bb5",
   "metadata": {
    "slideshow": {
     "slide_type": "subslide"
    }
   },
   "source": [
    "The definition of the clustering coefficient cannot be extended to bipartite networks, because the connection of direct neighbors of the same type is prohibited, and triangles cannot exist.\n",
    "# $c_u = \\frac{2 T(u)}{deg(u)(deg(u)-1)}$\n",
    "Here the $T(u)$ is interpreted as the number of links between neighbors of node u. And it's the same as the triangles mentioned above"
   ]
  },
  {
   "cell_type": "markdown",
   "id": "6ce1a779",
   "metadata": {
    "slideshow": {
     "slide_type": "subslide"
    }
   },
   "source": [
    "To deal with this problem, we turn to two possible solutions:\n",
    "1. Measure the clustering coefficient of projections separately. #####picture \\\n",
    "However, there are also some problems with projection."
   ]
  },
  {
   "cell_type": "markdown",
   "id": "9aa89341",
   "metadata": {
    "slideshow": {
     "slide_type": "subslide"
    }
   },
   "source": [
    "### Projection Problems\n",
    "1. Information in the bipartite structure may disappear after projection. \n",
    "For instance, the fact that two items brought by multiple people. In projected graph, the two items are\n",
    "simply linked together. However, we could probably solve this problem using a weighted bipartite graph (increase the weight if more people buy both items) \n",
    "The fact that there are many bipartite graphs which lead to the same projection can also show this loss of information\n",
    "2. The projection couldn't capture the status other than the shared node. For example, C and D are linked because they both connect to 5. But the information of 4-C and 6-D and 7-D are not captured. \\\n",
    "And we will show below the information loss will make the unipartite ananlysis of clustering coefficient even less informative when the relation is sparse as in our dataset\n",
    "3. Some properties of the projection may be due to the projection process rather than the underlying data itself. For instance, it is shown in Newman et al. (2001a) and Guillaume and Latapy (2004a,b) that when considering the projection of a random bipartite graph, one observes high clustering coefficients. Therefore, high clustering coefficients in projections may not be viewed as significant properties: they are consequences of the bipartite nature of the underlying two-mode network.\n",
    "4. There are also some computation cost problems in large networks. We won't address this problem here."
   ]
  },
  {
   "cell_type": "markdown",
   "id": "041a3282",
   "metadata": {
    "slideshow": {
     "slide_type": "subslide"
    }
   },
   "source": [
    "Therefore, we need to find out another way of measuring clustering coefficient."
   ]
  },
  {
   "cell_type": "markdown",
   "id": "8a1fa2af",
   "metadata": {
    "slideshow": {
     "slide_type": "subslide"
    }
   },
   "source": [
    "2. Latapy et al. (2008) propose extending the local clustering coefficient to bipartite networks with a more abstract definition of overlapping neighborhoods. The overlap equals the fraction of joint neighbors in both neighborhoods. \n",
    "\n",
    "(In simple words, the overlap is represented by the similarity $c_{uv}$ between two sets )"
   ]
  },
  {
   "cell_type": "markdown",
   "id": "a1c116d6",
   "metadata": {
    "slideshow": {
     "slide_type": "subslide"
    }
   },
   "source": [
    " # $c_u = \\frac{\\sum_{v \\in N(N(u))} c_{uv} }{|N(N(u))|}$\n",
    " where $N(N(u)$) are the second order neighbors of u in G excluding u, and $c_{uv}$ is the pairwise clustering coefficient between nodes u and v. \\\n",
    " The mode selects the function for $c_{uv}$ which can be:"
   ]
  },
  {
   "cell_type": "markdown",
   "id": "ca5b2459",
   "metadata": {
    "slideshow": {
     "slide_type": "subslide"
    }
   },
   "source": [
    " # $c_u = \\frac{\\sum_{v \\in N(N(u))} c_{uv} }{|N(N(u))|}$\n",
    " where $N(N(u)$) are the second order neighbors of u in G excluding u, and $c_{uv}$ is the pairwise clustering coefficient between nodes u and v. \\\n",
    " The function for $c_{uv}$ which can be:\n",
    " \n",
    "# $c_{uv}=\\frac{|N(u)\\cap N(v)|}{|N(u) \\cup N(v)|}$ \n",
    "Jaccard Similarity"
   ]
  },
  {
   "cell_type": "markdown",
   "id": "5176df0b",
   "metadata": {
    "slideshow": {
     "slide_type": "subslide"
    }
   },
   "source": [
    "# $c_u = \\frac{\\sum_{v \\in N(N(u))} c_{uv} }{|N(N(u))|}$\n",
    " where $N(N(u)$) are the second order neighbors of u in G excluding u, and $c_{uv}$ is the pairwise clustering coefficient between nodes u and v. \\\n",
    " The mode selects the function for $c_{uv}$ which can be:\n",
    " \n",
    "# $c_{uv}=\\frac{|N(u)\\cap N(v)|}{|N(u) \\cup N(v)|}$ \n",
    "Jaccard Similarity\n",
    "\n",
    "# $c_{uv}=\\frac{|N(u)\\cap N(v)|}{min(|N(u)|,|N(v)|)}$\n",
    "Min. which is similar to the one mentioned on lecture slides 9b page 65"
   ]
  },
  {
   "cell_type": "markdown",
   "id": "717cdf45",
   "metadata": {
    "slideshow": {
     "slide_type": "subslide"
    }
   },
   "source": [
    "# $c_u = \\frac{\\sum_{v \\in N(N(u))} c_{uv} }{|N(N(u))|}$\n",
    " where $N(N(u)$) are the second order neighbors of u in G excluding u, and $c_{uv}$ is the pairwise clustering coefficient between nodes u and v. \\\n",
    " (In simple words, the overlap $c_{uv}$ is just the similarity between two sets \\\n",
    " The function for $c_{uv}$ which can be:\n",
    " \n",
    "# $c_{uv}=\\frac{|N(u)\\cap N(v)|}{|N(u) \\cup N(v)|}$ \n",
    "Jaccard Similarity\n",
    "\n",
    "# $c_{uv}=\\frac{|N(u)\\cap N(v)|}{min(|N(u)|,|N(v)|)}$\n",
    "Min. which is similar to the one mentioned on lecture slides 9b page 65\n",
    "\n",
    "# $c_{uv}=\\frac{|N(u)\\cap N(v)|}{max(|N(u)|,|N(v)|)}$\n",
    "Max"
   ]
  },
  {
   "cell_type": "code",
   "execution_count": null,
   "id": "e6de018b",
   "metadata": {},
   "outputs": [],
   "source": [
    "item_g = s.get_projection(1)\n",
    "bipartite_clusterCo = bipartite.clustering(s.model, s.get_sets()[1], mode = 'dot')"
   ]
  },
  {
   "cell_type": "code",
   "execution_count": null,
   "id": "a24d794b",
   "metadata": {},
   "outputs": [],
   "source": []
  },
  {
   "cell_type": "code",
   "execution_count": null,
   "id": "ac93a47b",
   "metadata": {},
   "outputs": [],
   "source": [
    "item_g['B002YX0GEQ']"
   ]
  },
  {
   "cell_type": "code",
   "execution_count": null,
   "id": "ba90f329",
   "metadata": {},
   "outputs": [],
   "source": [
    "item_g.degree()"
   ]
  },
  {
   "cell_type": "code",
   "execution_count": null,
   "id": "87ab52bd",
   "metadata": {},
   "outputs": [],
   "source": [
    "item_g.edges()"
   ]
  },
  {
   "cell_type": "code",
   "execution_count": null,
   "id": "0d860324",
   "metadata": {},
   "outputs": [],
   "source": [
    "df2[df2['asin'] == 'B00QYOF6CS'] "
   ]
  },
  {
   "cell_type": "code",
   "execution_count": null,
   "id": "db53cc36",
   "metadata": {},
   "outputs": [],
   "source": [
    "df2[df2['asin'] == 'B002YX0GEQ'] "
   ]
  },
  {
   "cell_type": "code",
   "execution_count": null,
   "id": "15f8f604",
   "metadata": {},
   "outputs": [],
   "source": [
    "item_g = s2.get_projection(1)\n",
    "bipartite_clusterCo = bipartite.clustering(s2.model, s2.get_sets()[1], mode = 'dot')\n",
    "df_2 = pd.DataFrame({'asin':bipartite_clusterCo.keys(), 'coef': bipartite_clusterCo.values(), 'mode': ['dot']*len(bipartite_clusterCo)})\n",
    "df_2.plot(kind='hist', y = 'coef')\n",
    "\n",
    "clusterCo = nx.clustering(item_g)\n",
    "df_3 = pd.DataFrame({'asin':clusterCo.keys(), 'coef': clusterCo.values(), 'mode': ['projection']*len(clusterCo) })\n",
    "df_3.plot(kind='hist', y = 'coef')\n",
    "\n",
    "item_g = s2.get_projection(1)\n",
    "bipartite_clusterCo = bipartite.clustering(s2.model, s2.get_sets()[1], mode = 'min')\n",
    "df_4 = pd.DataFrame({'asin':bipartite_clusterCo.keys(), 'coef': bipartite_clusterCo.values(), 'mode': ['min']*len(bipartite_clusterCo)})\n",
    "df_4.plot(kind='hist', y = 'coef')\n",
    "\n",
    "item_g = s2.get_projection(1)\n",
    "bipartite_clusterCo = bipartite.clustering(s2.model, s2.get_sets()[1], mode = 'max')\n",
    "df_5 = pd.DataFrame({'asin':bipartite_clusterCo.keys(), 'coef': bipartite_clusterCo.values(), 'mode': ['max']*len(bipartite_clusterCo)})\n",
    "df_5.plot(kind='hist', y = 'coef')\n",
    "\n"
   ]
  },
  {
   "cell_type": "code",
   "execution_count": null,
   "id": "086a0f1e",
   "metadata": {},
   "outputs": [],
   "source": [
    "df_6 = pd.concat([df_2, df_3, df_4, df_5])\n",
    "df_6"
   ]
  },
  {
   "cell_type": "code",
   "execution_count": null,
   "id": "70a00452",
   "metadata": {},
   "outputs": [],
   "source": [
    "import plotly.express as px\n",
    "fig = px.histogram(df_6[df_6['mode'].isin(['projection', 'dot'])], x = 'coef', color = 'mode', opacity = 0.35, nbins =50, barmode = 'overlay', title = 'clustering coefficient histogram')\n",
    "fig.show()\n"
   ]
  },
  {
   "cell_type": "code",
   "execution_count": null,
   "id": "798bf73b",
   "metadata": {
    "slideshow": {
     "slide_type": "slide"
    }
   },
   "outputs": [],
   "source": [
    "#df2[df2['asin'] == 'B01FAHYO0O'].drop('review', axis = 1)\n",
    "#df2[df2['asin'] == 'B01GHLWK58'].drop('review', axis = 1)\n",
    "#df2[df2['asin'] == 'B0000DJUYR'].drop('review', axis = 1)\n",
    "#df2[df2['asin'] == 'B001IANIDM'].drop('review', axis = 1)\n",
    "df2[df2['asin'] == 'B013L4ZYIY'].drop('review', axis = 1)"
   ]
  },
  {
   "cell_type": "code",
   "execution_count": null,
   "id": "f3373840",
   "metadata": {},
   "outputs": [],
   "source": [
    "df2[df2['user'] == 'A3OMBQCLXIYH82'][['asin','category']]"
   ]
  },
  {
   "cell_type": "code",
   "execution_count": null,
   "id": "9e5fb00e",
   "metadata": {
    "scrolled": false,
    "slideshow": {
     "slide_type": "subslide"
    }
   },
   "outputs": [],
   "source": [
    "df2[df2['user'] == 'ARS8GNF3HMUGG'][['asin','category']]"
   ]
  },
  {
   "cell_type": "code",
   "execution_count": null,
   "id": "ca612e9b",
   "metadata": {},
   "outputs": [],
   "source": [
    "df2[df2['asin'] == 'B01FAHYO0O']['review'].iloc[0]"
   ]
  },
  {
   "cell_type": "code",
   "execution_count": null,
   "id": "9045d039",
   "metadata": {},
   "outputs": [],
   "source": [
    "df_2[df_2['asin'] == 'B013L4ZYIY']"
   ]
  },
  {
   "cell_type": "code",
   "execution_count": null,
   "id": "0bdc960a",
   "metadata": {},
   "outputs": [],
   "source": [
    "df_2[(df_2['asin'] == 0.6) & (df_2['coef'] > 0)]"
   ]
  },
  {
   "cell_type": "code",
   "execution_count": null,
   "id": "13701cae",
   "metadata": {},
   "outputs": [],
   "source": [
    "\n",
    "sorted(bipartite_clusterCo.items(), key=lambda item: item[1], reverse = True)[10000]\n"
   ]
  },
  {
   "cell_type": "code",
   "execution_count": null,
   "id": "6caed544",
   "metadata": {},
   "outputs": [],
   "source": [
    "df2[df2['asin'] == 'B00XRDH9QK']"
   ]
  },
  {
   "cell_type": "code",
   "execution_count": null,
   "id": "11337eb5",
   "metadata": {},
   "outputs": [],
   "source": []
  },
  {
   "cell_type": "code",
   "execution_count": null,
   "id": "89c31f0f",
   "metadata": {},
   "outputs": [],
   "source": [
    "df2[df2['user'] == 'AXIY5ZEG2SJ53']"
   ]
  },
  {
   "cell_type": "code",
   "execution_count": null,
   "id": "9250dad9",
   "metadata": {},
   "outputs": [],
   "source": [
    "df2[df2['asin'] == 'B00XUYWYU2']"
   ]
  },
  {
   "cell_type": "markdown",
   "id": "20087456",
   "metadata": {},
   "source": [
    "## Hubs and Authorities"
   ]
  },
  {
   "cell_type": "code",
   "execution_count": null,
   "id": "0e9dc44a",
   "metadata": {},
   "outputs": [],
   "source": [
    "s3 = Simulation(df2[['rating','user','asin','time','category']], di = True)\n",
    "s3.model.nodes()\n",
    "s3.add_node(0, 1698524800)"
   ]
  },
  {
   "cell_type": "code",
   "execution_count": null,
   "id": "1bb290b3",
   "metadata": {},
   "outputs": [],
   "source": [
    "h, a = nx.hits(s3.model)"
   ]
  },
  {
   "cell_type": "code",
   "execution_count": null,
   "id": "96849724",
   "metadata": {},
   "outputs": [],
   "source": [
    "h = dict(sorted(h.items(), key=lambda item: item[1], reverse = True))\n",
    "h"
   ]
  },
  {
   "cell_type": "code",
   "execution_count": null,
   "id": "b7a47fae",
   "metadata": {},
   "outputs": [],
   "source": [
    "len(a)"
   ]
  },
  {
   "cell_type": "code",
   "execution_count": null,
   "id": "c82b3b39",
   "metadata": {},
   "outputs": [],
   "source": [
    "a = dict(sorted(a.items(), key=lambda item: item[1], reverse = True))\n",
    "a"
   ]
  },
  {
   "cell_type": "code",
   "execution_count": null,
   "id": "5419848b",
   "metadata": {},
   "outputs": [],
   "source": [
    "for (i, j) in a.items():\n",
    "    if i[0] == 'A':\n",
    "        print(i,j)"
   ]
  },
  {
   "cell_type": "code",
   "execution_count": null,
   "id": "33aa3a05",
   "metadata": {},
   "outputs": [],
   "source": [
    "h['A1ZKJOISGOBVI4']"
   ]
  },
  {
   "cell_type": "code",
   "execution_count": null,
   "id": "2608a2fe",
   "metadata": {},
   "outputs": [],
   "source": [
    "a = dict(sorted(a.items(), key=lambda item: item[1], reverse = True))\n",
    "a"
   ]
  },
  {
   "cell_type": "code",
   "execution_count": null,
   "id": "3db4d146",
   "metadata": {
    "scrolled": true
   },
   "outputs": [],
   "source": [
    "df2[df2['user'] == 'A1ZKJOISGOBVI4']"
   ]
  },
  {
   "cell_type": "code",
   "execution_count": null,
   "id": "7a578441",
   "metadata": {},
   "outputs": [],
   "source": [
    "df2[df2['asin'] == 'B0096TXQNE']"
   ]
  },
  {
   "cell_type": "code",
   "execution_count": null,
   "id": "3eaae5cd",
   "metadata": {},
   "outputs": [],
   "source": [
    "df.groupby('asin').count().sort_values(by = 'rating')"
   ]
  },
  {
   "cell_type": "code",
   "execution_count": null,
   "id": "e0460f38",
   "metadata": {},
   "outputs": [],
   "source": [
    "temp = np.array(list(h.values()))*1e20"
   ]
  },
  {
   "cell_type": "code",
   "execution_count": null,
   "id": "23b26292",
   "metadata": {},
   "outputs": [],
   "source": []
  },
  {
   "cell_type": "code",
   "execution_count": null,
   "id": "02835c5a",
   "metadata": {
    "scrolled": true
   },
   "outputs": [],
   "source": [
    "plt.hist(x = temp[temp > 0] , bins = 100)"
   ]
  },
  {
   "cell_type": "code",
   "execution_count": null,
   "id": "5419fbbc",
   "metadata": {},
   "outputs": [],
   "source": [
    "s.df"
   ]
  },
  {
   "cell_type": "markdown",
   "id": "d2d3e63f",
   "metadata": {},
   "source": [
    "## k-clique communities"
   ]
  },
  {
   "cell_type": "markdown",
   "id": "69ca6016",
   "metadata": {},
   "source": []
  },
  {
   "cell_type": "code",
   "execution_count": null,
   "id": "2b142f2a",
   "metadata": {
    "scrolled": true
   },
   "outputs": [],
   "source": [
    "from networkx.algorithms.community import k_clique_communities\n",
    "#clique_g = nx.find_cliques(s2.model)\n",
    "items = s2.get_projection(1)\n",
    "clique_g = nx.find_cliques(items)\n",
    "list(k_clique_communities(items, 20, clique_g))"
   ]
  },
  {
   "cell_type": "code",
   "execution_count": null,
   "id": "e6e74a3d",
   "metadata": {
    "scrolled": true
   },
   "outputs": [],
   "source": [
    "temp_df = df2[df2['asin'].isin([\n",
    "    'B00002ST27',\n",
    "            'B00005UK88',\n",
    "            'B00012D0SG',\n",
    "            'B0007M1U28',\n",
    "            'B0009V1BDA',\n",
    "            'B000C10E1W',\n",
    "            'B000CEM3M2',\n",
    "            'B000GGOKN6',\n",
    "            'B000IZ9S2S',\n",
    "            'B000P6G74M',\n",
    "            'B000YTTFWQ',\n",
    "            'B001CK0F0W',\n",
    "            'B001CSPUF4',\n",
    "            'B001DT32AC',\n",
    "            'B001TICH08',\n",
    "            'B001V5C75Y',\n",
    "            'B002BRZ9G0',\n",
    "            'B002LGAAQK',\n",
    "            'B002SG7EMQ',\n",
    "            'B0032HM6JG',\n",
    "            'B003B0B10Y',\n",
    "            'B004XOILSM',\n",
    "            'B0050SVNSU',\n",
    "            'B0053AGEJS',\n",
    "            'B0053B5RGI',\n",
    "            'B005DJOIHE',\n",
    "            'B005H3I38G',\n",
    "            'B005UWAG3Y',\n",
    "            'B0089YGAQM',\n",
    "            'B008A20KGY',\n",
    "            'B0092GSNHK',\n",
    "            'B009L0OUT2',\n",
    "            'B00B2HP8AW',\n",
    "            'B00CIJ3T1S',\n",
    "            'B00CNUH50I',\n",
    "            'B00CX1YX34',\n",
    "            'B00E4BISE6',\n",
    "            'B00EXKZ4SQ',\n",
    "            'B00F3S5QJE',\n",
    "            'B00FARSAVY',\n",
    "            'B00GR5ZRA0',\n",
    "            'B00HH4K6TC',\n",
    "            'B00HSX6R72',\n",
    "            'B00HWHOFRI',\n",
    "            'B00JR3OOR6',\n",
    "            'B00K9VXUHU',\n",
    "            'B00L0YLRUW',\n",
    "            'B00LM4ON3I',\n",
    "            'B00MX7UHHO',\n",
    "            'B00NQ7U982',\n",
    "            'B00O65H6S4',\n",
    "            'B00OJ5WBUE',\n",
    "            'B00PGDN3NC',\n",
    "            'B00RGGVG4K',\n",
    "            'B00RN08584',\n",
    "            'B00SXI0M9U',\n",
    "            'B00U3GXAIA',\n",
    "            'B00UR5XBMW',\n",
    "            'B00VE6Z5XQ',\n",
    "            'B00VHB3RQ0',\n",
    "            'B00VTJHRNY',\n",
    "            'B00W4R1FQK',\n",
    "            'B00WL68ZJ4',\n",
    "            'B00X4PXLGI',\n",
    "            'B00X808VE6',\n",
    "            'B00X9VQXUI',\n",
    "            'B00YSMSKSU',\n",
    "            'B00YXDGOYQ',\n",
    "            'B00ZMGSUTU',\n",
    "            'B01155YKF4',\n",
    "            'B013B8Y6HA',\n",
    "            'B013QPFI3O',\n",
    "            'B0149L17FC',\n",
    "            'B014P45YWA',\n",
    "            'B015S9TTDG',\n",
    "            'B016F3M7OM',\n",
    "            'B017KU3QTE',\n",
    "            'B0185MFA18',\n",
    "            'B019P8U3C2',\n",
    "            'B01B609JSQ',\n",
    "            'B01C2N90LW',\n",
    "            'B01EHPRY70',\n",
    "            'B01EZ91VV8',\n",
    "            'B01FDF6HEE',\n",
    "            'B01FPG5BSE',\n",
    "            'B01G9MVG82',\n",
    "            'B01H2XD2DY',\n",
    "            'B01HCL3THA'\n",
    "            ])][['asin','review', 'category']] \n",
    "temp_df.groupby('asin').max().groupby('category').count()"
   ]
  },
  {
   "cell_type": "code",
   "execution_count": null,
   "id": "e2ca5acb",
   "metadata": {},
   "outputs": [],
   "source": [
    "items = s2.get_projection(1, graph = 0)\n",
    "clique_g = nx.find_cliques(items)\n",
    "list(k_clique_communities(items, 10, clique_g))"
   ]
  },
  {
   "cell_type": "markdown",
   "id": "d4a2bb15",
   "metadata": {},
   "source": [
    "## Louvain "
   ]
  },
  {
   "cell_type": "code",
   "execution_count": null,
   "id": "1cdb2480",
   "metadata": {},
   "outputs": [],
   "source": [
    "items = s2.get_projection(1)\n",
    "items"
   ]
  },
  {
   "cell_type": "code",
   "execution_count": null,
   "id": "d23a48f7",
   "metadata": {},
   "outputs": [],
   "source": [
    "cluster1 = nx.community.louvain_communities(items)\n",
    "cluster1"
   ]
  },
  {
   "cell_type": "code",
   "execution_count": null,
   "id": "6cbaa609",
   "metadata": {},
   "outputs": [],
   "source": [
    "list(cluster1[0])"
   ]
  },
  {
   "cell_type": "code",
   "execution_count": null,
   "id": "a9a47e63",
   "metadata": {},
   "outputs": [],
   "source": [
    "temp_df = df2[df2['asin'].isin(list(cluster1[20]))][['asin','review', 'category']] \n",
    "temp_df.groupby('asin').max().groupby('category').count()"
   ]
  },
  {
   "cell_type": "markdown",
   "id": "d207e92b",
   "metadata": {},
   "source": [
    "## Closeness Centrality"
   ]
  },
  {
   "cell_type": "code",
   "execution_count": null,
   "id": "4063b77e",
   "metadata": {},
   "outputs": [],
   "source": [
    "s4 = Simulation(df2[['rating','user','asin','time','category']], di = False)\n",
    "\n",
    "#s4.add_node(1527836400, 1698524800)\n",
    "s4.cat_add_node(1527836400, 1698524800)"
   ]
  },
  {
   "cell_type": "code",
   "execution_count": null,
   "id": "ce78560e",
   "metadata": {},
   "outputs": [],
   "source": [
    "project0 = s2.get_projection(0)\n"
   ]
  },
  {
   "cell_type": "markdown",
   "id": "b28b761a",
   "metadata": {},
   "source": [
    "## betweenness Centrality"
   ]
  },
  {
   "cell_type": "markdown",
   "id": "b17ca9a6",
   "metadata": {},
   "source": [
    "We "
   ]
  },
  {
   "cell_type": "code",
   "execution_count": null,
   "id": "11642ee1",
   "metadata": {
    "scrolled": true
   },
   "outputs": [],
   "source": [
    "sets = s4.get_cat_sets()\n",
    "bipartite.centrality.betweenness_centrality(s4.cat_model , sets[1])"
   ]
  },
  {
   "cell_type": "code",
   "execution_count": null,
   "id": "7848ec7b",
   "metadata": {},
   "outputs": [],
   "source": [
    "s4.cat_model.order()"
   ]
  },
  {
   "cell_type": "code",
   "execution_count": null,
   "id": "3583bdf5",
   "metadata": {},
   "outputs": [],
   "source": []
  },
  {
   "cell_type": "code",
   "execution_count": null,
   "id": "4ee091ed",
   "metadata": {},
   "outputs": [],
   "source": [
    "#bet_cent = bipartite.centrality.betweenness_centrality(s4.model, sets[0])\n",
    "#bet_cent"
   ]
  },
  {
   "cell_type": "markdown",
   "id": "d10fe734",
   "metadata": {},
   "source": [
    "## Co-Hits"
   ]
  },
  {
   "cell_type": "code",
   "execution_count": null,
   "id": "caf63e6c",
   "metadata": {},
   "outputs": [],
   "source": [
    "bn = br.BipartiteNetwork()"
   ]
  },
  {
   "cell_type": "code",
   "execution_count": null,
   "id": "0e0d30cd",
   "metadata": {},
   "outputs": [],
   "source": [
    "bn.set_edgelist(\n",
    "    df2,\n",
    "    top_col='user', bottom_col='asin',\n",
    "    weight_col=None\n",
    ")"
   ]
  },
  {
   "cell_type": "code",
   "execution_count": null,
   "id": "55f117f4",
   "metadata": {},
   "outputs": [],
   "source": [
    "user_birank_df, ssn_birank_df = bn.generate_birank(normalizer='CoHITS')\n",
    "user_birank_df.sort_values(by='user_birank', ascending=False).head()\n"
   ]
  },
  {
   "cell_type": "code",
   "execution_count": null,
   "id": "2f6bc7cb",
   "metadata": {},
   "outputs": [],
   "source": [
    "ssn_birank_df.sort_values(by='asin_birank', ascending=False).head()"
   ]
  },
  {
   "cell_type": "markdown",
   "id": "9060e629",
   "metadata": {},
   "source": [
    "## BiRank"
   ]
  },
  {
   "cell_type": "code",
   "execution_count": null,
   "id": "30707159",
   "metadata": {},
   "outputs": [],
   "source": [
    "user_birank_df2, ssn_birank_df2 = bn.generate_birank(normalizer='BiRank')\n",
    "user_birank_df2.sort_values(by='user_birank', ascending=False).head()"
   ]
  },
  {
   "cell_type": "code",
   "execution_count": null,
   "id": "82e34eb7",
   "metadata": {},
   "outputs": [],
   "source": [
    "ssn_birank_df2.sort_values(by='asin_birank', ascending=False).head()"
   ]
  },
  {
   "cell_type": "markdown",
   "id": "921643ae",
   "metadata": {},
   "source": [
    "## Weighted Co-Hits"
   ]
  },
  {
   "cell_type": "code",
   "execution_count": null,
   "id": "27a39001",
   "metadata": {},
   "outputs": [],
   "source": [
    "bn_w = br.BipartiteNetwork()\n",
    "bn_w.set_edgelist(\n",
    "    df2,\n",
    "    top_col='user', bottom_col='asin',\n",
    "    weight_col='rating'\n",
    ")"
   ]
  },
  {
   "cell_type": "code",
   "execution_count": null,
   "id": "06770ef8",
   "metadata": {},
   "outputs": [],
   "source": [
    "user_birank_df, ssn_birank_df = bn_w.generate_birank(normalizer='CoHITS')\n",
    "user_birank_df.sort_values(by='user_birank', ascending=False).head()"
   ]
  },
  {
   "cell_type": "markdown",
   "id": "c895d167",
   "metadata": {},
   "source": [
    "## Weighted BiRank"
   ]
  },
  {
   "cell_type": "code",
   "execution_count": null,
   "id": "99a04316",
   "metadata": {},
   "outputs": [],
   "source": [
    "user_birank_df, ssn_birank_df = bn_w.generate_birank(normalizer='BiRank')\n",
    "user_birank_df.sort_values(by='user_birank', ascending=False).head()"
   ]
  },
  {
   "cell_type": "code",
   "execution_count": null,
   "id": "092798c6",
   "metadata": {},
   "outputs": [],
   "source": [
    "ssn_birank_df.sort_values(by='asin_birank', ascending=False).head()"
   ]
  },
  {
   "cell_type": "code",
   "execution_count": null,
   "id": "7cd0ac8d",
   "metadata": {},
   "outputs": [],
   "source": [
    "birank_dic = {row['asin']: row['asin_birank'] for index, row in ssn_birank_df.iterrows()}\n",
    "birank_dic2 = {row['asin']: row['asin_birank'] for index, row in ssn_birank_df2.iterrows()}\n",
    "degree_dic = df3.groupby('asin')['rating'].count().to_dict()\n",
    "df3 = df2[['asin', 'user', 'rating']]\n",
    "df3['cohits'] = df3['asin'].apply(lambda x: birank_dic[x])\n",
    "df3['birank'] = df3['asin'].apply(lambda x: birank_dic2[x])\n",
    "df3['degree'] = df3['asin'].apply(lambda x: degree_dic[x])\n",
    "df3"
   ]
  },
  {
   "cell_type": "code",
   "execution_count": null,
   "id": "21f144e8",
   "metadata": {},
   "outputs": [],
   "source": [
    "df3.plot(kind='hist', y = 'birank')"
   ]
  },
  {
   "cell_type": "code",
   "execution_count": null,
   "id": "1d36d2db",
   "metadata": {},
   "outputs": [],
   "source": [
    "df3.plot(kind='hist', y = 'cohits')"
   ]
  },
  {
   "cell_type": "code",
   "execution_count": null,
   "id": "1b6a620c",
   "metadata": {},
   "outputs": [],
   "source": [
    "df3.plot(kind='hist', y = 'degree')"
   ]
  },
  {
   "cell_type": "code",
   "execution_count": null,
   "id": "7d06a8fb",
   "metadata": {},
   "outputs": [],
   "source": [
    "from sklearn.linear_model import LinearRegression\n",
    "from sklearn.model_selection import train_test_split\n",
    "from sklearn.ensemble import RandomForestRegressor\n",
    "X_train, X_test, y_train, y_test = train_test_split(df3[['degree', 'birank', 'cohits']], df3['rating'], test_size = 0.25)\n",
    "reg = LinearRegression().fit(X_train[['degree']], y_train)\n",
    "rf = RandomForestRegressor().fit(X_train[['degree']], y_train)\n",
    "pred_reg = reg.predict(X_test[['degree']])\n",
    "pred_rf = rf.predict(X_test[['degree']])"
   ]
  },
  {
   "cell_type": "code",
   "execution_count": null,
   "id": "f3280366",
   "metadata": {},
   "outputs": [],
   "source": [
    "np.mean((pred_reg - y_test)**2), np.mean((pred_rf - y_test)**2)"
   ]
  },
  {
   "cell_type": "code",
   "execution_count": null,
   "id": "c891c482",
   "metadata": {},
   "outputs": [],
   "source": [
    "reg = LinearRegression().fit(X_train[['birank']], y_train)\n",
    "rf = RandomForestRegressor().fit(X_train[['birank']], y_train)\n",
    "pred_reg = reg.predict(X_test[['birank']])\n",
    "pred_rf = rf.predict(X_test[['birank']])"
   ]
  },
  {
   "cell_type": "code",
   "execution_count": null,
   "id": "6081c9ef",
   "metadata": {},
   "outputs": [],
   "source": [
    "np.mean((pred_reg - y_test)**2), np.mean((pred_rf - y_test)**2)"
   ]
  },
  {
   "cell_type": "code",
   "execution_count": null,
   "id": "e358177c",
   "metadata": {},
   "outputs": [],
   "source": [
    "reg = LinearRegression().fit(X_train[['cohits']], y_train)\n",
    "rf = RandomForestRegressor().fit(X_train[['cohits']], y_train)\n",
    "pred_reg = reg.predict(X_test[['cohits']])\n",
    "pred_rf = rf.predict(X_test[['cohits']])"
   ]
  },
  {
   "cell_type": "code",
   "execution_count": null,
   "id": "f2392d97",
   "metadata": {},
   "outputs": [],
   "source": [
    "np.mean((pred_reg - y_test)**2), np.mean((pred_rf - y_test)**2)"
   ]
  },
  {
   "cell_type": "code",
   "execution_count": null,
   "id": "e4a0a3b7",
   "metadata": {},
   "outputs": [],
   "source": [
    "mse = []\n",
    "for i in tqdm(range(100)):\n",
    "    X_train, X_test, y_train, y_test = train_test_split(df3[['degree', 'birank', 'cohits']], df3['rating'], test_size = 0.25)\n",
    "    rf = RandomForestRegressor().fit(X_train[['degree']], y_train)\n",
    "    pred_rf = rf.predict(X_test[['degree']])\n",
    "    mse.append(np.mean((pred_rf - y_test)**2))\n",
    "    "
   ]
  },
  {
   "cell_type": "code",
   "execution_count": null,
   "id": "7d67a20c",
   "metadata": {},
   "outputs": [],
   "source": [
    "np.mean((1.2603352060086486 < np.array(mse)))"
   ]
  },
  {
   "cell_type": "code",
   "execution_count": null,
   "id": "4857803f",
   "metadata": {
    "scrolled": true
   },
   "outputs": [],
   "source": [
    "#s.model.nodes(data = True)"
   ]
  },
  {
   "cell_type": "code",
   "execution_count": null,
   "id": "904475de",
   "metadata": {},
   "outputs": [],
   "source": [
    "s.model['B0068AD39Q']"
   ]
  },
  {
   "cell_type": "code",
   "execution_count": null,
   "id": "62a8222d",
   "metadata": {
    "scrolled": true
   },
   "outputs": [],
   "source": [
    "#s.draw(fig_size = (20,100), width = 0.03, save = False)"
   ]
  },
  {
   "cell_type": "code",
   "execution_count": null,
   "id": "459d9bbc",
   "metadata": {},
   "outputs": [],
   "source": [
    "np.random.normal(5 * 2,2,1)"
   ]
  },
  {
   "cell_type": "code",
   "execution_count": null,
   "id": "c4da6999",
   "metadata": {},
   "outputs": [],
   "source": [
    "a = df[['user','asin']]\n",
    "a.itertuples(index=False, name=None)"
   ]
  },
  {
   "cell_type": "code",
   "execution_count": null,
   "id": "7abbf84e",
   "metadata": {},
   "outputs": [],
   "source": [
    "B = nx.Graph()\n",
    "# Add nodes with the node attribute \"bipartite\"\n",
    "B.add_nodes_from(set(df['user']), bipartite=0)\n",
    "B.add_nodes_from(set(df['asin']), bipartite=1)\n",
    "# Add edges only between nodes of opposite node sets\n",
    "B.add_weighted_edges_from(df[['user','asin', 'rating']].itertuples(index=False, name=None))\n",
    "nx.set_node_attributes(B, 0, \"grain\")"
   ]
  },
  {
   "cell_type": "markdown",
   "id": "a028166b",
   "metadata": {
    "scrolled": true
   },
   "source": [
    "## example "
   ]
  },
  {
   "cell_type": "raw",
   "id": "a7da6905",
   "metadata": {},
   "source": [
    "temp_df = df2[df2['asin'].isin([\n",
    "            'B00002ST27',\n",
    "            'B00005UK88',\n",
    "            'B00012D0SG',\n",
    "            'B0007M1U28',\n",
    "            'B0009V1BDA',\n",
    "            'B000C10E1W',\n",
    "            'B000CEM3M2',\n",
    "            'B000GGOKN6',\n",
    "            'B000IZ9S2S',\n",
    "            'B000P6G74M',\n",
    "            'B000YTTFWQ',\n",
    "            'B001CK0F0W',\n",
    "            'B001CSPUF4',\n",
    "            'B001DT32AC',\n",
    "            'B001TICH08',\n",
    "            'B001V5C75Y',\n",
    "            'B002BRZ9G0',\n",
    "            'B002LGAAQK',\n",
    "            'B002SG7EMQ',\n",
    "            'B0032HM6JG',\n",
    "            'B003B0B10Y',\n",
    "            'B004XOILSM',\n",
    "            'B0050SVNSU',\n",
    "            'B0053AGEJS',\n",
    "            'B0053B5RGI',\n",
    "            'B005DJOIHE',\n",
    "            'B005H3I38G',\n",
    "            'B005UWAG3Y',\n",
    "            'B0089YGAQM',\n",
    "            'B008A20KGY',\n",
    "            'B0092GSNHK',\n",
    "            'B009L0OUT2',\n",
    "            'B00B2HP8AW',\n",
    "            'B00CIJ3T1S',\n",
    "            'B00CNUH50I',\n",
    "            'B00CX1YX34',\n",
    "            'B00E4BISE6',\n",
    "            'B00EXKZ4SQ',\n",
    "            'B00F3S5QJE',\n",
    "            'B00FARSAVY',\n",
    "            'B00GR5ZRA0',\n",
    "            'B00HH4K6TC',\n",
    "            'B00HSX6R72',\n",
    "            'B00HWHOFRI',\n",
    "            'B00JR3OOR6',\n",
    "            'B00K9VXUHU',\n",
    "            'B00L0YLRUW',\n",
    "            'B00LM4ON3I',\n",
    "            'B00MX7UHHO',\n",
    "            'B00NQ7U982',\n",
    "            'B00O65H6S4',\n",
    "            'B00OJ5WBUE',\n",
    "            'B00PGDN3NC',\n",
    "            'B00RGGVG4K',\n",
    "            'B00RN08584',\n",
    "            'B00SXI0M9U',\n",
    "            'B00U3GXAIA',\n",
    "            'B00UR5XBMW',\n",
    "            'B00VE6Z5XQ',\n",
    "            'B00VHB3RQ0',\n",
    "            'B00VTJHRNY',\n",
    "            'B00W4R1FQK',\n",
    "            'B00WL68ZJ4',\n",
    "            'B00X4PXLGI',\n",
    "            'B00X808VE6',\n",
    "            'B00X9VQXUI',\n",
    "            'B00YSMSKSU',\n",
    "            'B00YXDGOYQ',\n",
    "            'B00ZMGSUTU',\n",
    "            'B01155YKF4',\n",
    "            'B013B8Y6HA',\n",
    "            'B013QPFI3O',\n",
    "            'B0149L17FC',\n",
    "            'B014P45YWA',\n",
    "            'B015S9TTDG',\n",
    "            'B016F3M7OM',\n",
    "            'B017KU3QTE',\n",
    "            'B0185MFA18',\n",
    "            'B019P8U3C2',\n",
    "            'B01B609JSQ',\n",
    "            'B01C2N90LW',\n",
    "            'B01EHPRY70',\n",
    "            'B01EZ91VV8',\n",
    "            'B01FDF6HEE',\n",
    "            'B01FPG5BSE',\n",
    "            'B01G9MVG82',\n",
    "            'B01H2XD2DY',\n",
    "            'B01HCL3THA'])][['asin','review', 'category']] \n",
    "temp_df.groupby('asin').max().groupby('category').count()\n",
    "------------\n",
    "'B000V7NP6I',\n",
    "            'B0043T7FXE',\n",
    "            'B004KQ9ZEW',\n",
    "            'B0092ECRMO',\n",
    "            'B00J0RZY00',\n",
    "            'B00JLVGC6A',\n",
    "            'B00LVM2R8O',\n",
    "            'B00NP9IZIM',\n",
    "            'B00T5C5LX0',\n",
    "            'B00XNME0GC',\n",
    "            'B013C6E5WW',\n",
    "            'B016836EOS',\n",
    "            'B018F68R14',\n",
    "            'B01FFB0U3A'\n",
    "          -------------\n",
    "          'B0000302Y8',\n",
    "            'B0000302YS',\n",
    "            'B000DIMQ9M',\n",
    "            'B000DLAPJ2',\n",
    "            'B000J3RYMU',\n",
    "            'B000JFK0HY',\n",
    "            'B000JFNO6I',\n",
    "            'B000WEPH70',\n",
    "            'B001NV16LM',\n",
    "            'B003XYAVA4',\n",
    "            'B0091H50DU',\n",
    "            'B00BZC31WQ',\n",
    "            'B00CM5ZCW2',\n",
    "            'B00CRL0M8K',\n",
    "            'B00GBEZZZY',\n",
    "            'B00H3QQD5K',\n",
    "            'B00HUE5M6G',\n",
    "            'B00ISDUEPC',\n",
    "            'B00KCQT0XA',\n",
    "            'B00MXSZI4U',\n",
    "            'B00NAPQ6ZU',\n",
    "            'B00ND1LFPW',\n",
    "            'B00OU6MLSY',\n",
    "            'B00S0CTU2Y',\n",
    "            'B00S6Y350O',\n",
    "            'B00T8VFF8Y',\n",
    "            'B00UUDZL6U',\n",
    "            'B00WTSDMB0',\n",
    "            'B00ZFNBAPG',\n",
    "            'B00ZV1QPRA',\n",
    "            'B0106XD60Q',\n",
    "            'B0188GS3AQ',\n",
    "            'B01BNCFE72',\n",
    "            'B01BV7SO8U',\n",
    "            'B01CGT3W52',\n",
    "            'B01D5H8MKY',\n",
    "            'B01E0E5CIG',\n",
    "            'B01EWQ9GH0',\n",
    "            'B01HA7XLP6',\n",
    "            'B01HI3VXWA'\n",
    "            -----------------\n",
    "            'B0000Y7ZLI',\n",
    "            'B000ILEH64',\n",
    "            'B000JE4V70',\n",
    "            'B000YDDF6O',\n",
    "            'B00115S410',\n",
    "            'B001EK1X8S',\n",
    "            'B001G47C0U',\n",
    "            'B00295MQLU',\n",
    "            'B0030RSBH4',\n",
    "            'B0054KBV4U',\n",
    "            'B0056KOIFW',\n",
    "            'B005V00FSG',\n",
    "            'B006SZVHHQ',\n",
    "            'B006ZT936W',\n",
    "            'B0073CC2SQ',\n",
    "            'B007HTBP2O',\n",
    "            'B008TL8QA8',\n",
    "            'B00BGEOCGC',\n",
    "            'B00CL2H1U2',\n",
    "            'B00FR4YQYK',\n",
    "            'B00IR4F3LM',\n",
    "            'B00MG2OOHK',\n",
    "            'B00MYL9JU0',\n",
    "            'B00NF9KKM6',\n",
    "            'B00NR6I0XS',\n",
    "            'B00NTYHBUG',\n",
    "            'B00OTJ5HW4',\n",
    "            'B00PV6H3Z8',\n",
    "            'B00QHBMKOU',\n",
    "            'B00S0DXM4U',\n",
    "            'B00SMHWZ42',\n",
    "            'B00TH0NMTU',\n",
    "            'B00UHJCP5C',\n",
    "            'B00VDP9EB2',\n",
    "            'B00WRD1X4K',\n",
    "            'B00ZUY63UC',\n",
    "            'B010FCITNC',\n",
    "            'B011EWX3RE',\n",
    "            'B013KJEF5I',\n",
    "            'B015PXX78S',\n",
    "            'B015T74CXO',\n",
    "            'B01681O14U',\n",
    "            'B0168817TU',\n",
    "            'B0187WDG62',\n",
    "            'B01AQM3FRQ',\n",
    "            'B01BI38LBC',\n",
    "            'B01C7X6T66',\n",
    "            'B01DDQ6GMS',\n",
    "            'B01E4US0XA',\n",
    "            'B01ERWUOQ6',\n",
    "            'B01FM20A5U',\n",
    "            'B01GFQFGFQ',\n",
    "            'B01GRMZ8Q0',\n",
    "            'B01HG1LA6S'"
   ]
  },
  {
   "cell_type": "markdown",
   "id": "a8dee20e",
   "metadata": {},
   "source": [
    "Piepenbrink, Anke and Ajai Gaur (2013). Methodological Advances in the Analysis of\n",
    "Bipartite Networks: An Illustration Using Board Interlocks in Indian Firms. SSRN\n",
    "Scholarly Paper ID 2199111. Rochester, NY: Social Science Research Network. url:\n",
    "http://papers.ssrn.com/abstract=2199111.\n",
    "\n",
    "Latapy, Matthieu, Cl´emence Magnien, and Nathalie Vecchio (2008). “Basic notions for\n",
    "the analysis of large two-mode networks”. In: Social Networks 30.1, pp. 31–48. issn:\n",
    "03788733. doi: 10.1016/j.socnet.2007.04.006."
   ]
  },
  {
   "cell_type": "code",
   "execution_count": null,
   "id": "c342bbb2",
   "metadata": {},
   "outputs": [],
   "source": []
  }
 ],
 "metadata": {
  "celltoolbar": "无",
  "kernelspec": {
   "display_name": "Python 3 (ipykernel)",
   "language": "python",
   "name": "python3"
  },
  "language_info": {
   "codemirror_mode": {
    "name": "ipython",
    "version": 3
   },
   "file_extension": ".py",
   "mimetype": "text/x-python",
   "name": "python",
   "nbconvert_exporter": "python",
   "pygments_lexer": "ipython3",
   "version": "3.9.5"
  }
 },
 "nbformat": 4,
 "nbformat_minor": 5
}
